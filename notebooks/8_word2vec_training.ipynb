{
 "cells": [
  {
   "cell_type": "code",
   "execution_count": 33,
   "metadata": {
    "id": "Wd5oGr_PP4an"
   },
   "outputs": [],
   "source": [
    "import numpy as np\n",
    "import pandas as pd\n",
    "\n",
    "import matplotlib.pyplot as plt\n",
    "import matplotlib.cm as cm\n",
    "import ssl\n",
    "try:\n",
    "    _create_unverified_https_context = ssl._create_unverified_context\n",
    "except AttributeError:\n",
    "    pass\n",
    "else:\n",
    "    ssl._create_default_https_context = _create_unverified_https_context\n",
    "\n",
    "\n",
    "from gensim.models import Word2Vec\n",
    "from time import time \n",
    "import multiprocessing\n",
    "import logging  # logger\n",
    "logging.basicConfig(format=\"%(levelname)s - %(asctime)s: %(message)s\", datefmt= '%H:%M:%S', level=logging.INFO)\n",
    "\n",
    "from sklearn.manifold import TSNE\n",
    "\n",
    "import warnings\n",
    "warnings.filterwarnings('ignore')\n",
    "\n",
    "pd.set_option('display.max_colwidth', None)\n",
    "\n",
    "from sklearn.model_selection import train_test_split, StratifiedKFold\n",
    "from sklearn.linear_model import LogisticRegression\n",
    "from sklearn.svm import SVC\n",
    "from sklearn.naive_bayes import GaussianNB\n",
    "from sklearn.decomposition import PCA\n",
    "\n",
    "from sklearn.metrics import accuracy_score, f1_score, precision_score, recall_score, roc_auc_score, roc_curve, auc\n",
    "\n",
    "import os"
   ]
  },
  {
   "cell_type": "code",
   "execution_count": 16,
   "metadata": {},
   "outputs": [
    {
     "data": {
      "text/html": [
       "<div>\n",
       "<style scoped>\n",
       "    .dataframe tbody tr th:only-of-type {\n",
       "        vertical-align: middle;\n",
       "    }\n",
       "\n",
       "    .dataframe tbody tr th {\n",
       "        vertical-align: top;\n",
       "    }\n",
       "\n",
       "    .dataframe thead th {\n",
       "        text-align: right;\n",
       "    }\n",
       "</style>\n",
       "<table border=\"1\" class=\"dataframe\">\n",
       "  <thead>\n",
       "    <tr style=\"text-align: right;\">\n",
       "      <th></th>\n",
       "      <th>News Category</th>\n",
       "      <th>Documents</th>\n",
       "      <th>Word Count</th>\n",
       "      <th>Noun Phrases</th>\n",
       "      <th>Noun Count</th>\n",
       "      <th>Adjective Count</th>\n",
       "      <th>Verb Count</th>\n",
       "    </tr>\n",
       "  </thead>\n",
       "  <tbody>\n",
       "    <tr>\n",
       "      <th>0</th>\n",
       "      <td>business</td>\n",
       "      <td>wall st bear claw back black reuters reuters short seller wall street dwindling band ultra cynic seeing green</td>\n",
       "      <td>18</td>\n",
       "      <td>4</td>\n",
       "      <td>12</td>\n",
       "      <td>3</td>\n",
       "      <td>2</td>\n",
       "    </tr>\n",
       "    <tr>\n",
       "      <th>1</th>\n",
       "      <td>business</td>\n",
       "      <td>carlyle look toward commercial aerospace reuters reuters private investment firm carlyle group reputation making well timed occasionally controversial play defense industry quietly placed bet another part market</td>\n",
       "      <td>27</td>\n",
       "      <td>5</td>\n",
       "      <td>15</td>\n",
       "      <td>4</td>\n",
       "      <td>3</td>\n",
       "    </tr>\n",
       "    <tr>\n",
       "      <th>2</th>\n",
       "      <td>business</td>\n",
       "      <td>oil economy cloud stock outlook reuters reuters soaring crude price plus worry economy outlook earnings expected hang stock market next week depth summer doldrums</td>\n",
       "      <td>24</td>\n",
       "      <td>5</td>\n",
       "      <td>17</td>\n",
       "      <td>4</td>\n",
       "      <td>2</td>\n",
       "    </tr>\n",
       "    <tr>\n",
       "      <th>3</th>\n",
       "      <td>business</td>\n",
       "      <td>iraq halt oil export main southern pipeline reuters reuters authority halted oil export flow main pipeline southern iraq intelligence showed rebel militia strike infrastructure oil official said saturday</td>\n",
       "      <td>28</td>\n",
       "      <td>3</td>\n",
       "      <td>19</td>\n",
       "      <td>6</td>\n",
       "      <td>3</td>\n",
       "    </tr>\n",
       "    <tr>\n",
       "      <th>4</th>\n",
       "      <td>business</td>\n",
       "      <td>oil price soar time record posing new menace economy afp afp tearaway world oil price toppling record straining wallet present new economic menace barely three month presidential election</td>\n",
       "      <td>28</td>\n",
       "      <td>4</td>\n",
       "      <td>16</td>\n",
       "      <td>7</td>\n",
       "      <td>3</td>\n",
       "    </tr>\n",
       "  </tbody>\n",
       "</table>\n",
       "</div>"
      ],
      "text/plain": [
       "  News Category  \\\n",
       "0      business   \n",
       "1      business   \n",
       "2      business   \n",
       "3      business   \n",
       "4      business   \n",
       "\n",
       "                                                                                                                                                                                                             Documents  \\\n",
       "0                                                                                                        wall st bear claw back black reuters reuters short seller wall street dwindling band ultra cynic seeing green   \n",
       "1  carlyle look toward commercial aerospace reuters reuters private investment firm carlyle group reputation making well timed occasionally controversial play defense industry quietly placed bet another part market   \n",
       "2                                                   oil economy cloud stock outlook reuters reuters soaring crude price plus worry economy outlook earnings expected hang stock market next week depth summer doldrums   \n",
       "3          iraq halt oil export main southern pipeline reuters reuters authority halted oil export flow main pipeline southern iraq intelligence showed rebel militia strike infrastructure oil official said saturday   \n",
       "4                          oil price soar time record posing new menace economy afp afp tearaway world oil price toppling record straining wallet present new economic menace barely three month presidential election   \n",
       "\n",
       "   Word Count  Noun Phrases  Noun Count  Adjective Count  Verb Count  \n",
       "0          18             4          12                3           2  \n",
       "1          27             5          15                4           3  \n",
       "2          24             5          17                4           2  \n",
       "3          28             3          19                6           3  \n",
       "4          28             4          16                7           3  "
      ]
     },
     "execution_count": 16,
     "metadata": {},
     "output_type": "execute_result"
    }
   ],
   "source": [
    "data_file_path = os.path.abspath(os.path.join(os.pardir,'data','cleaned_AG.csv'))\n",
    "data = pd.read_csv(data_file_path)\n",
    "data.head()"
   ]
  },
  {
   "cell_type": "markdown",
   "metadata": {},
   "source": [
    "# Drop Title & Description"
   ]
  },
  {
   "cell_type": "code",
   "execution_count": 17,
   "metadata": {},
   "outputs": [
    {
     "data": {
      "text/html": [
       "<div>\n",
       "<style scoped>\n",
       "    .dataframe tbody tr th:only-of-type {\n",
       "        vertical-align: middle;\n",
       "    }\n",
       "\n",
       "    .dataframe tbody tr th {\n",
       "        vertical-align: top;\n",
       "    }\n",
       "\n",
       "    .dataframe thead th {\n",
       "        text-align: right;\n",
       "    }\n",
       "</style>\n",
       "<table border=\"1\" class=\"dataframe\">\n",
       "  <thead>\n",
       "    <tr style=\"text-align: right;\">\n",
       "      <th></th>\n",
       "      <th>News Category</th>\n",
       "      <th>Documents</th>\n",
       "      <th>Word Count</th>\n",
       "      <th>Noun Phrases</th>\n",
       "      <th>Noun Count</th>\n",
       "      <th>Adjective Count</th>\n",
       "      <th>Verb Count</th>\n",
       "    </tr>\n",
       "  </thead>\n",
       "  <tbody>\n",
       "    <tr>\n",
       "      <th>0</th>\n",
       "      <td>business</td>\n",
       "      <td>[wall, st, bear, claw, back, black, reuters, reuters, short, seller, wall, street, dwindling, band, ultra, cynic, seeing, green]</td>\n",
       "      <td>18</td>\n",
       "      <td>4</td>\n",
       "      <td>12</td>\n",
       "      <td>3</td>\n",
       "      <td>2</td>\n",
       "    </tr>\n",
       "    <tr>\n",
       "      <th>1</th>\n",
       "      <td>business</td>\n",
       "      <td>[carlyle, look, toward, commercial, aerospace, reuters, reuters, private, investment, firm, carlyle, group, reputation, making, well, timed, occasionally, controversial, play, defense, industry, quietly, placed, bet, another, part, market]</td>\n",
       "      <td>27</td>\n",
       "      <td>5</td>\n",
       "      <td>15</td>\n",
       "      <td>4</td>\n",
       "      <td>3</td>\n",
       "    </tr>\n",
       "    <tr>\n",
       "      <th>2</th>\n",
       "      <td>business</td>\n",
       "      <td>[oil, economy, cloud, stock, outlook, reuters, reuters, soaring, crude, price, plus, worry, economy, outlook, earnings, expected, hang, stock, market, next, week, depth, summer, doldrums]</td>\n",
       "      <td>24</td>\n",
       "      <td>5</td>\n",
       "      <td>17</td>\n",
       "      <td>4</td>\n",
       "      <td>2</td>\n",
       "    </tr>\n",
       "    <tr>\n",
       "      <th>3</th>\n",
       "      <td>business</td>\n",
       "      <td>[iraq, halt, oil, export, main, southern, pipeline, reuters, reuters, authority, halted, oil, export, flow, main, pipeline, southern, iraq, intelligence, showed, rebel, militia, strike, infrastructure, oil, official, said, saturday]</td>\n",
       "      <td>28</td>\n",
       "      <td>3</td>\n",
       "      <td>19</td>\n",
       "      <td>6</td>\n",
       "      <td>3</td>\n",
       "    </tr>\n",
       "    <tr>\n",
       "      <th>4</th>\n",
       "      <td>business</td>\n",
       "      <td>[oil, price, soar, time, record, posing, new, menace, economy, afp, afp, tearaway, world, oil, price, toppling, record, straining, wallet, present, new, economic, menace, barely, three, month, presidential, election]</td>\n",
       "      <td>28</td>\n",
       "      <td>4</td>\n",
       "      <td>16</td>\n",
       "      <td>7</td>\n",
       "      <td>3</td>\n",
       "    </tr>\n",
       "  </tbody>\n",
       "</table>\n",
       "</div>"
      ],
      "text/plain": [
       "  News Category  \\\n",
       "0      business   \n",
       "1      business   \n",
       "2      business   \n",
       "3      business   \n",
       "4      business   \n",
       "\n",
       "                                                                                                                                                                                                                                         Documents  \\\n",
       "0                                                                                                                 [wall, st, bear, claw, back, black, reuters, reuters, short, seller, wall, street, dwindling, band, ultra, cynic, seeing, green]   \n",
       "1  [carlyle, look, toward, commercial, aerospace, reuters, reuters, private, investment, firm, carlyle, group, reputation, making, well, timed, occasionally, controversial, play, defense, industry, quietly, placed, bet, another, part, market]   \n",
       "2                                                      [oil, economy, cloud, stock, outlook, reuters, reuters, soaring, crude, price, plus, worry, economy, outlook, earnings, expected, hang, stock, market, next, week, depth, summer, doldrums]   \n",
       "3         [iraq, halt, oil, export, main, southern, pipeline, reuters, reuters, authority, halted, oil, export, flow, main, pipeline, southern, iraq, intelligence, showed, rebel, militia, strike, infrastructure, oil, official, said, saturday]   \n",
       "4                         [oil, price, soar, time, record, posing, new, menace, economy, afp, afp, tearaway, world, oil, price, toppling, record, straining, wallet, present, new, economic, menace, barely, three, month, presidential, election]   \n",
       "\n",
       "   Word Count  Noun Phrases  Noun Count  Adjective Count  Verb Count  \n",
       "0          18             4          12                3           2  \n",
       "1          27             5          15                4           3  \n",
       "2          24             5          17                4           2  \n",
       "3          28             3          19                6           3  \n",
       "4          28             4          16                7           3  "
      ]
     },
     "execution_count": 17,
     "metadata": {},
     "output_type": "execute_result"
    }
   ],
   "source": [
    "data['Documents'] = data['Documents'].str.split(\" \")\n",
    "data.head()"
   ]
  },
  {
   "cell_type": "markdown",
   "metadata": {},
   "source": [
    "# Word Embeddings using Word2Vec algorithm"
   ]
  },
  {
   "cell_type": "code",
   "execution_count": 18,
   "metadata": {},
   "outputs": [
    {
     "name": "stderr",
     "output_type": "stream",
     "text": [
      "INFO - 21:02:42: Word2Vec lifecycle event {'params': 'Word2Vec(vocab=0, vector_size=100, alpha=0.03)', 'datetime': '2021-04-29T21:02:42.685047', 'gensim': '4.0.1', 'python': '3.8.8 (default, Apr 13 2021, 19:58:26) \\n[GCC 7.3.0]', 'platform': 'Linux-4.15.0-142-generic-x86_64-with-glibc2.10', 'event': 'created'}\n"
     ]
    }
   ],
   "source": [
    "cores = multiprocessing.cpu_count()\n",
    "\n",
    "# initializing word2vec model\n",
    "model = Word2Vec(min_count=20,\n",
    "                     window=2, # window size for context \n",
    "                     vector_size=100,  # no of features \n",
    "                     sample=6e-5, \n",
    "                     alpha=0.03, \n",
    "                     min_alpha=0.0007, \n",
    "                     negative=20,\n",
    "                     workers=multiprocessing.cpu_count()-1)"
   ]
  },
  {
   "cell_type": "code",
   "execution_count": 19,
   "metadata": {},
   "outputs": [
    {
     "name": "stderr",
     "output_type": "stream",
     "text": [
      "INFO - 21:02:42: collecting all words and their counts\n",
      "INFO - 21:02:42: PROGRESS: at sentence #0, processed 0 words, keeping 0 word types\n",
      "INFO - 21:02:42: PROGRESS: at sentence #10000, processed 273130 words, keeping 18981 word types\n",
      "INFO - 21:02:43: PROGRESS: at sentence #20000, processed 542961 words, keeping 26350 word types\n",
      "INFO - 21:02:43: PROGRESS: at sentence #30000, processed 810845 words, keeping 31364 word types\n",
      "INFO - 21:02:43: PROGRESS: at sentence #40000, processed 1079542 words, keeping 35363 word types\n",
      "INFO - 21:02:43: PROGRESS: at sentence #50000, processed 1347719 words, keeping 38795 word types\n",
      "INFO - 21:02:43: PROGRESS: at sentence #60000, processed 1617217 words, keeping 42012 word types\n",
      "INFO - 21:02:43: PROGRESS: at sentence #70000, processed 1887970 words, keeping 44832 word types\n",
      "INFO - 21:02:43: PROGRESS: at sentence #80000, processed 2156362 words, keeping 47460 word types\n",
      "INFO - 21:02:43: PROGRESS: at sentence #90000, processed 2420763 words, keeping 50103 word types\n",
      "INFO - 21:02:43: PROGRESS: at sentence #100000, processed 2685958 words, keeping 52494 word types\n",
      "INFO - 21:02:43: PROGRESS: at sentence #110000, processed 2951158 words, keeping 54723 word types\n",
      "INFO - 21:02:43: PROGRESS: at sentence #120000, processed 3217943 words, keeping 56786 word types\n",
      "INFO - 21:02:43: collected 58107 word types from a corpus of 3420491 raw words and 127600 sentences\n",
      "INFO - 21:02:43: Creating a fresh vocabulary\n",
      "INFO - 21:02:43: Word2Vec lifecycle event {'msg': 'effective_min_count=20 retains 12033 unique words (20.70834839176003%% of original 58107, drops 46074)', 'datetime': '2021-04-29T21:02:43.574643', 'gensim': '4.0.1', 'python': '3.8.8 (default, Apr 13 2021, 19:58:26) \\n[GCC 7.3.0]', 'platform': 'Linux-4.15.0-142-generic-x86_64-with-glibc2.10', 'event': 'prepare_vocab'}\n",
      "INFO - 21:02:43: Word2Vec lifecycle event {'msg': 'effective_min_count=20 leaves 3242708 word corpus (94.80241286996517%% of original 3420491, drops 177783)', 'datetime': '2021-04-29T21:02:43.575215', 'gensim': '4.0.1', 'python': '3.8.8 (default, Apr 13 2021, 19:58:26) \\n[GCC 7.3.0]', 'platform': 'Linux-4.15.0-142-generic-x86_64-with-glibc2.10', 'event': 'prepare_vocab'}\n",
      "INFO - 21:02:43: deleting the raw counts dictionary of 58107 items\n",
      "INFO - 21:02:43: sample=6e-05 downsamples 1226 most-common words\n",
      "INFO - 21:02:43: Word2Vec lifecycle event {'msg': 'downsampling leaves estimated 1974354.8758255735 word corpus (60.9%% of prior 3242708)', 'datetime': '2021-04-29T21:02:43.631511', 'gensim': '4.0.1', 'python': '3.8.8 (default, Apr 13 2021, 19:58:26) \\n[GCC 7.3.0]', 'platform': 'Linux-4.15.0-142-generic-x86_64-with-glibc2.10', 'event': 'prepare_vocab'}\n",
      "INFO - 21:02:43: estimated required memory for 12033 words and 100 dimensions: 15642900 bytes\n",
      "INFO - 21:02:43: resetting layer weights\n",
      "INFO - 21:02:43: Word2Vec lifecycle event {'update': False, 'trim_rule': 'None', 'datetime': '2021-04-29T21:02:43.734241', 'gensim': '4.0.1', 'python': '3.8.8 (default, Apr 13 2021, 19:58:26) \\n[GCC 7.3.0]', 'platform': 'Linux-4.15.0-142-generic-x86_64-with-glibc2.10', 'event': 'build_vocab'}\n"
     ]
    },
    {
     "name": "stdout",
     "output_type": "stream",
     "text": [
      "Time to build vocab: 0.01 mins\n"
     ]
    }
   ],
   "source": [
    "t = time()\n",
    "\n",
    "# build vocabulary\n",
    "model.build_vocab(data['Documents'], progress_per=10000)\n",
    "\n",
    "print('Time to build vocab: {} mins'.format(round((time() - t) / 60, 2)))"
   ]
  },
  {
   "cell_type": "code",
   "execution_count": 20,
   "metadata": {},
   "outputs": [
    {
     "name": "stderr",
     "output_type": "stream",
     "text": [
      "INFO - 21:02:43: Word2Vec lifecycle event {'msg': 'training model with 7 workers on 12033 vocabulary and 100 features, using sg=0 hs=0 sample=6e-05 negative=20 window=2', 'datetime': '2021-04-29T21:02:43.739408', 'gensim': '4.0.1', 'python': '3.8.8 (default, Apr 13 2021, 19:58:26) \\n[GCC 7.3.0]', 'platform': 'Linux-4.15.0-142-generic-x86_64-with-glibc2.10', 'event': 'train'}\n",
      "INFO - 21:02:44: EPOCH 1 - PROGRESS: at 47.62% examples, 945607 words/s, in_qsize 13, out_qsize 0\n",
      "INFO - 21:02:45: EPOCH 1 - PROGRESS: at 98.05% examples, 960916 words/s, in_qsize 7, out_qsize 0\n",
      "INFO - 21:02:45: worker thread finished; awaiting finish of 6 more threads\n",
      "INFO - 21:02:45: worker thread finished; awaiting finish of 5 more threads\n",
      "INFO - 21:02:45: worker thread finished; awaiting finish of 4 more threads\n",
      "INFO - 21:02:45: worker thread finished; awaiting finish of 3 more threads\n",
      "INFO - 21:02:45: worker thread finished; awaiting finish of 2 more threads\n",
      "INFO - 21:02:45: worker thread finished; awaiting finish of 1 more threads\n",
      "INFO - 21:02:45: worker thread finished; awaiting finish of 0 more threads\n",
      "INFO - 21:02:45: EPOCH - 1 : training on 3420491 raw words (1973921 effective words) took 2.0s, 968567 effective words/s\n",
      "INFO - 21:02:46: EPOCH 2 - PROGRESS: at 48.19% examples, 952952 words/s, in_qsize 13, out_qsize 0\n",
      "INFO - 21:02:47: worker thread finished; awaiting finish of 6 more threads\n",
      "INFO - 21:02:47: worker thread finished; awaiting finish of 5 more threads\n",
      "INFO - 21:02:47: worker thread finished; awaiting finish of 4 more threads\n",
      "INFO - 21:02:47: EPOCH 2 - PROGRESS: at 99.11% examples, 974509 words/s, in_qsize 3, out_qsize 1\n",
      "INFO - 21:02:47: worker thread finished; awaiting finish of 3 more threads\n",
      "INFO - 21:02:47: worker thread finished; awaiting finish of 2 more threads\n",
      "INFO - 21:02:47: worker thread finished; awaiting finish of 1 more threads\n",
      "INFO - 21:02:47: worker thread finished; awaiting finish of 0 more threads\n",
      "INFO - 21:02:47: EPOCH - 2 : training on 3420491 raw words (1975292 effective words) took 2.0s, 979587 effective words/s\n",
      "INFO - 21:02:48: EPOCH 3 - PROGRESS: at 48.49% examples, 961956 words/s, in_qsize 13, out_qsize 1\n",
      "INFO - 21:02:49: worker thread finished; awaiting finish of 6 more threads\n",
      "INFO - 21:02:49: worker thread finished; awaiting finish of 5 more threads\n",
      "INFO - 21:02:49: worker thread finished; awaiting finish of 4 more threads\n",
      "INFO - 21:02:49: worker thread finished; awaiting finish of 3 more threads\n",
      "INFO - 21:02:49: worker thread finished; awaiting finish of 2 more threads\n",
      "INFO - 21:02:49: worker thread finished; awaiting finish of 1 more threads\n",
      "INFO - 21:02:49: worker thread finished; awaiting finish of 0 more threads\n",
      "INFO - 21:02:49: EPOCH - 3 : training on 3420491 raw words (1974314 effective words) took 2.0s, 992096 effective words/s\n",
      "INFO - 21:02:50: EPOCH 4 - PROGRESS: at 50.80% examples, 996539 words/s, in_qsize 13, out_qsize 0\n",
      "INFO - 21:02:51: worker thread finished; awaiting finish of 6 more threads\n",
      "INFO - 21:02:51: worker thread finished; awaiting finish of 5 more threads\n",
      "INFO - 21:02:51: worker thread finished; awaiting finish of 4 more threads\n",
      "INFO - 21:02:51: worker thread finished; awaiting finish of 3 more threads\n",
      "INFO - 21:02:51: worker thread finished; awaiting finish of 2 more threads\n",
      "INFO - 21:02:51: worker thread finished; awaiting finish of 1 more threads\n",
      "INFO - 21:02:51: worker thread finished; awaiting finish of 0 more threads\n",
      "INFO - 21:02:51: EPOCH - 4 : training on 3420491 raw words (1973796 effective words) took 1.9s, 1021829 effective words/s\n",
      "INFO - 21:02:52: EPOCH 5 - PROGRESS: at 51.37% examples, 1018997 words/s, in_qsize 13, out_qsize 0\n",
      "INFO - 21:02:53: worker thread finished; awaiting finish of 6 more threads\n",
      "INFO - 21:02:53: worker thread finished; awaiting finish of 5 more threads\n",
      "INFO - 21:02:53: worker thread finished; awaiting finish of 4 more threads\n",
      "INFO - 21:02:53: worker thread finished; awaiting finish of 3 more threads\n",
      "INFO - 21:02:53: worker thread finished; awaiting finish of 2 more threads\n",
      "INFO - 21:02:53: worker thread finished; awaiting finish of 1 more threads\n",
      "INFO - 21:02:53: worker thread finished; awaiting finish of 0 more threads\n",
      "INFO - 21:02:53: EPOCH - 5 : training on 3420491 raw words (1974414 effective words) took 1.9s, 1034274 effective words/s\n",
      "INFO - 21:02:54: EPOCH 6 - PROGRESS: at 51.65% examples, 1023095 words/s, in_qsize 13, out_qsize 0\n",
      "INFO - 21:02:55: worker thread finished; awaiting finish of 6 more threads\n",
      "INFO - 21:02:55: worker thread finished; awaiting finish of 5 more threads\n",
      "INFO - 21:02:55: worker thread finished; awaiting finish of 4 more threads\n",
      "INFO - 21:02:55: worker thread finished; awaiting finish of 3 more threads\n",
      "INFO - 21:02:55: worker thread finished; awaiting finish of 2 more threads\n",
      "INFO - 21:02:55: worker thread finished; awaiting finish of 1 more threads\n",
      "INFO - 21:02:55: worker thread finished; awaiting finish of 0 more threads\n",
      "INFO - 21:02:55: EPOCH - 6 : training on 3420491 raw words (1974959 effective words) took 1.9s, 1056643 effective words/s\n",
      "INFO - 21:02:56: EPOCH 7 - PROGRESS: at 54.54% examples, 1077303 words/s, in_qsize 13, out_qsize 0\n",
      "INFO - 21:02:57: worker thread finished; awaiting finish of 6 more threads\n",
      "INFO - 21:02:57: worker thread finished; awaiting finish of 5 more threads\n",
      "INFO - 21:02:57: worker thread finished; awaiting finish of 4 more threads\n",
      "INFO - 21:02:57: worker thread finished; awaiting finish of 3 more threads\n",
      "INFO - 21:02:57: worker thread finished; awaiting finish of 2 more threads\n",
      "INFO - 21:02:57: worker thread finished; awaiting finish of 1 more threads\n",
      "INFO - 21:02:57: worker thread finished; awaiting finish of 0 more threads\n",
      "INFO - 21:02:57: EPOCH - 7 : training on 3420491 raw words (1973868 effective words) took 1.8s, 1094724 effective words/s\n",
      "INFO - 21:02:58: EPOCH 8 - PROGRESS: at 53.67% examples, 1061899 words/s, in_qsize 13, out_qsize 0\n",
      "INFO - 21:02:59: worker thread finished; awaiting finish of 6 more threads\n",
      "INFO - 21:02:59: worker thread finished; awaiting finish of 5 more threads\n",
      "INFO - 21:02:59: worker thread finished; awaiting finish of 4 more threads\n",
      "INFO - 21:02:59: worker thread finished; awaiting finish of 3 more threads\n",
      "INFO - 21:02:59: worker thread finished; awaiting finish of 2 more threads\n",
      "INFO - 21:02:59: worker thread finished; awaiting finish of 1 more threads\n",
      "INFO - 21:02:59: worker thread finished; awaiting finish of 0 more threads\n",
      "INFO - 21:02:59: EPOCH - 8 : training on 3420491 raw words (1973588 effective words) took 1.8s, 1083570 effective words/s\n",
      "INFO - 21:03:00: EPOCH 9 - PROGRESS: at 54.26% examples, 1064659 words/s, in_qsize 13, out_qsize 0\n",
      "INFO - 21:03:01: worker thread finished; awaiting finish of 6 more threads\n",
      "INFO - 21:03:01: worker thread finished; awaiting finish of 5 more threads\n",
      "INFO - 21:03:01: worker thread finished; awaiting finish of 4 more threads\n",
      "INFO - 21:03:01: worker thread finished; awaiting finish of 3 more threads\n",
      "INFO - 21:03:01: worker thread finished; awaiting finish of 2 more threads\n",
      "INFO - 21:03:01: worker thread finished; awaiting finish of 1 more threads\n",
      "INFO - 21:03:01: worker thread finished; awaiting finish of 0 more threads\n",
      "INFO - 21:03:01: EPOCH - 9 : training on 3420491 raw words (1974928 effective words) took 2.0s, 1008744 effective words/s\n",
      "INFO - 21:03:02: EPOCH 10 - PROGRESS: at 47.90% examples, 951107 words/s, in_qsize 12, out_qsize 1\n",
      "INFO - 21:03:03: worker thread finished; awaiting finish of 6 more threads\n",
      "INFO - 21:03:03: worker thread finished; awaiting finish of 5 more threads\n",
      "INFO - 21:03:03: worker thread finished; awaiting finish of 4 more threads\n",
      "INFO - 21:03:03: worker thread finished; awaiting finish of 3 more threads\n",
      "INFO - 21:03:03: worker thread finished; awaiting finish of 2 more threads\n",
      "INFO - 21:03:03: worker thread finished; awaiting finish of 1 more threads\n",
      "INFO - 21:03:03: worker thread finished; awaiting finish of 0 more threads\n",
      "INFO - 21:03:03: EPOCH - 10 : training on 3420491 raw words (1974010 effective words) took 2.0s, 992387 effective words/s\n",
      "INFO - 21:03:04: EPOCH 11 - PROGRESS: at 51.37% examples, 1013404 words/s, in_qsize 13, out_qsize 0\n",
      "INFO - 21:03:05: worker thread finished; awaiting finish of 6 more threads\n"
     ]
    },
    {
     "name": "stderr",
     "output_type": "stream",
     "text": [
      "INFO - 21:03:05: worker thread finished; awaiting finish of 5 more threads\n",
      "INFO - 21:03:05: worker thread finished; awaiting finish of 4 more threads\n",
      "INFO - 21:03:05: worker thread finished; awaiting finish of 3 more threads\n",
      "INFO - 21:03:05: worker thread finished; awaiting finish of 2 more threads\n",
      "INFO - 21:03:05: worker thread finished; awaiting finish of 1 more threads\n",
      "INFO - 21:03:05: worker thread finished; awaiting finish of 0 more threads\n",
      "INFO - 21:03:05: EPOCH - 11 : training on 3420491 raw words (1975856 effective words) took 2.0s, 1012253 effective words/s\n",
      "INFO - 21:03:06: EPOCH 12 - PROGRESS: at 52.50% examples, 1043854 words/s, in_qsize 13, out_qsize 0\n",
      "INFO - 21:03:06: worker thread finished; awaiting finish of 6 more threads\n",
      "INFO - 21:03:06: worker thread finished; awaiting finish of 5 more threads\n",
      "INFO - 21:03:06: worker thread finished; awaiting finish of 4 more threads\n",
      "INFO - 21:03:06: worker thread finished; awaiting finish of 3 more threads\n",
      "INFO - 21:03:06: worker thread finished; awaiting finish of 2 more threads\n",
      "INFO - 21:03:06: worker thread finished; awaiting finish of 1 more threads\n",
      "INFO - 21:03:06: worker thread finished; awaiting finish of 0 more threads\n",
      "INFO - 21:03:06: EPOCH - 12 : training on 3420491 raw words (1973844 effective words) took 1.9s, 1033628 effective words/s\n",
      "INFO - 21:03:08: EPOCH 13 - PROGRESS: at 53.10% examples, 1044896 words/s, in_qsize 13, out_qsize 0\n",
      "INFO - 21:03:08: worker thread finished; awaiting finish of 6 more threads\n",
      "INFO - 21:03:08: worker thread finished; awaiting finish of 5 more threads\n",
      "INFO - 21:03:08: worker thread finished; awaiting finish of 4 more threads\n",
      "INFO - 21:03:08: worker thread finished; awaiting finish of 3 more threads\n",
      "INFO - 21:03:08: worker thread finished; awaiting finish of 2 more threads\n",
      "INFO - 21:03:08: worker thread finished; awaiting finish of 1 more threads\n",
      "INFO - 21:03:08: worker thread finished; awaiting finish of 0 more threads\n",
      "INFO - 21:03:08: EPOCH - 13 : training on 3420491 raw words (1973877 effective words) took 1.8s, 1094871 effective words/s\n",
      "INFO - 21:03:09: EPOCH 14 - PROGRESS: at 50.50% examples, 1002523 words/s, in_qsize 13, out_qsize 0\n",
      "INFO - 21:03:10: worker thread finished; awaiting finish of 6 more threads\n",
      "INFO - 21:03:10: worker thread finished; awaiting finish of 5 more threads\n",
      "INFO - 21:03:10: worker thread finished; awaiting finish of 4 more threads\n",
      "INFO - 21:03:10: worker thread finished; awaiting finish of 3 more threads\n",
      "INFO - 21:03:10: worker thread finished; awaiting finish of 2 more threads\n",
      "INFO - 21:03:10: worker thread finished; awaiting finish of 1 more threads\n",
      "INFO - 21:03:10: worker thread finished; awaiting finish of 0 more threads\n",
      "INFO - 21:03:10: EPOCH - 14 : training on 3420491 raw words (1975246 effective words) took 2.0s, 1003177 effective words/s\n",
      "INFO - 21:03:11: EPOCH 15 - PROGRESS: at 53.68% examples, 1061732 words/s, in_qsize 13, out_qsize 4\n",
      "INFO - 21:03:12: worker thread finished; awaiting finish of 6 more threads\n",
      "INFO - 21:03:12: worker thread finished; awaiting finish of 5 more threads\n",
      "INFO - 21:03:12: worker thread finished; awaiting finish of 4 more threads\n",
      "INFO - 21:03:12: worker thread finished; awaiting finish of 3 more threads\n",
      "INFO - 21:03:12: worker thread finished; awaiting finish of 2 more threads\n",
      "INFO - 21:03:12: worker thread finished; awaiting finish of 1 more threads\n",
      "INFO - 21:03:12: worker thread finished; awaiting finish of 0 more threads\n",
      "INFO - 21:03:12: EPOCH - 15 : training on 3420491 raw words (1973682 effective words) took 1.8s, 1090928 effective words/s\n",
      "INFO - 21:03:13: EPOCH 16 - PROGRESS: at 53.68% examples, 1061144 words/s, in_qsize 13, out_qsize 0\n",
      "INFO - 21:03:14: worker thread finished; awaiting finish of 6 more threads\n",
      "INFO - 21:03:14: worker thread finished; awaiting finish of 5 more threads\n",
      "INFO - 21:03:14: worker thread finished; awaiting finish of 4 more threads\n",
      "INFO - 21:03:14: worker thread finished; awaiting finish of 3 more threads\n",
      "INFO - 21:03:14: worker thread finished; awaiting finish of 2 more threads\n",
      "INFO - 21:03:14: worker thread finished; awaiting finish of 1 more threads\n",
      "INFO - 21:03:14: worker thread finished; awaiting finish of 0 more threads\n",
      "INFO - 21:03:14: EPOCH - 16 : training on 3420491 raw words (1974815 effective words) took 1.9s, 1064949 effective words/s\n",
      "INFO - 21:03:15: EPOCH 17 - PROGRESS: at 53.38% examples, 1061278 words/s, in_qsize 13, out_qsize 0\n",
      "INFO - 21:03:16: worker thread finished; awaiting finish of 6 more threads\n",
      "INFO - 21:03:16: worker thread finished; awaiting finish of 5 more threads\n",
      "INFO - 21:03:16: worker thread finished; awaiting finish of 4 more threads\n",
      "INFO - 21:03:16: worker thread finished; awaiting finish of 3 more threads\n",
      "INFO - 21:03:16: worker thread finished; awaiting finish of 2 more threads\n",
      "INFO - 21:03:16: worker thread finished; awaiting finish of 1 more threads\n",
      "INFO - 21:03:16: worker thread finished; awaiting finish of 0 more threads\n",
      "INFO - 21:03:16: EPOCH - 17 : training on 3420491 raw words (1974589 effective words) took 1.8s, 1079758 effective words/s\n",
      "INFO - 21:03:17: EPOCH 18 - PROGRESS: at 54.26% examples, 1075990 words/s, in_qsize 13, out_qsize 0\n",
      "INFO - 21:03:18: worker thread finished; awaiting finish of 6 more threads\n",
      "INFO - 21:03:18: worker thread finished; awaiting finish of 5 more threads\n",
      "INFO - 21:03:18: worker thread finished; awaiting finish of 4 more threads\n",
      "INFO - 21:03:18: worker thread finished; awaiting finish of 3 more threads\n",
      "INFO - 21:03:18: worker thread finished; awaiting finish of 2 more threads\n",
      "INFO - 21:03:18: worker thread finished; awaiting finish of 1 more threads\n",
      "INFO - 21:03:18: worker thread finished; awaiting finish of 0 more threads\n",
      "INFO - 21:03:18: EPOCH - 18 : training on 3420491 raw words (1973613 effective words) took 1.8s, 1102455 effective words/s\n",
      "INFO - 21:03:19: EPOCH 19 - PROGRESS: at 54.54% examples, 1079195 words/s, in_qsize 13, out_qsize 0\n",
      "INFO - 21:03:19: worker thread finished; awaiting finish of 6 more threads\n",
      "INFO - 21:03:19: worker thread finished; awaiting finish of 5 more threads\n",
      "INFO - 21:03:19: worker thread finished; awaiting finish of 4 more threads\n",
      "INFO - 21:03:19: worker thread finished; awaiting finish of 3 more threads\n",
      "INFO - 21:03:19: worker thread finished; awaiting finish of 2 more threads\n",
      "INFO - 21:03:19: worker thread finished; awaiting finish of 1 more threads\n",
      "INFO - 21:03:19: worker thread finished; awaiting finish of 0 more threads\n",
      "INFO - 21:03:19: EPOCH - 19 : training on 3420491 raw words (1974522 effective words) took 1.8s, 1106535 effective words/s\n",
      "INFO - 21:03:20: EPOCH 20 - PROGRESS: at 56.29% examples, 1116147 words/s, in_qsize 13, out_qsize 0\n",
      "INFO - 21:03:21: worker thread finished; awaiting finish of 6 more threads\n",
      "INFO - 21:03:21: worker thread finished; awaiting finish of 5 more threads\n",
      "INFO - 21:03:21: worker thread finished; awaiting finish of 4 more threads\n",
      "INFO - 21:03:21: worker thread finished; awaiting finish of 3 more threads\n",
      "INFO - 21:03:21: worker thread finished; awaiting finish of 2 more threads\n",
      "INFO - 21:03:21: worker thread finished; awaiting finish of 1 more threads\n",
      "INFO - 21:03:21: worker thread finished; awaiting finish of 0 more threads\n",
      "INFO - 21:03:21: EPOCH - 20 : training on 3420491 raw words (1974649 effective words) took 1.8s, 1100115 effective words/s\n",
      "INFO - 21:03:22: EPOCH 21 - PROGRESS: at 53.68% examples, 1059756 words/s, in_qsize 13, out_qsize 0\n",
      "INFO - 21:03:23: worker thread finished; awaiting finish of 6 more threads\n",
      "INFO - 21:03:23: worker thread finished; awaiting finish of 5 more threads\n",
      "INFO - 21:03:23: worker thread finished; awaiting finish of 4 more threads\n",
      "INFO - 21:03:23: worker thread finished; awaiting finish of 3 more threads\n",
      "INFO - 21:03:23: worker thread finished; awaiting finish of 2 more threads\n",
      "INFO - 21:03:23: worker thread finished; awaiting finish of 1 more threads\n",
      "INFO - 21:03:23: worker thread finished; awaiting finish of 0 more threads\n",
      "INFO - 21:03:23: EPOCH - 21 : training on 3420491 raw words (1973659 effective words) took 1.8s, 1071413 effective words/s\n",
      "INFO - 21:03:24: EPOCH 22 - PROGRESS: at 52.80% examples, 1046418 words/s, in_qsize 13, out_qsize 0\n",
      "INFO - 21:03:25: worker thread finished; awaiting finish of 6 more threads\n"
     ]
    },
    {
     "name": "stderr",
     "output_type": "stream",
     "text": [
      "INFO - 21:03:25: worker thread finished; awaiting finish of 5 more threads\n",
      "INFO - 21:03:25: worker thread finished; awaiting finish of 4 more threads\n",
      "INFO - 21:03:25: worker thread finished; awaiting finish of 3 more threads\n",
      "INFO - 21:03:25: worker thread finished; awaiting finish of 2 more threads\n",
      "INFO - 21:03:25: worker thread finished; awaiting finish of 1 more threads\n",
      "INFO - 21:03:25: worker thread finished; awaiting finish of 0 more threads\n",
      "INFO - 21:03:25: EPOCH - 22 : training on 3420491 raw words (1974346 effective words) took 1.8s, 1089539 effective words/s\n",
      "INFO - 21:03:26: EPOCH 23 - PROGRESS: at 55.72% examples, 1101023 words/s, in_qsize 13, out_qsize 1\n",
      "INFO - 21:03:27: worker thread finished; awaiting finish of 6 more threads\n",
      "INFO - 21:03:27: worker thread finished; awaiting finish of 5 more threads\n",
      "INFO - 21:03:27: worker thread finished; awaiting finish of 4 more threads\n",
      "INFO - 21:03:27: worker thread finished; awaiting finish of 3 more threads\n",
      "INFO - 21:03:27: worker thread finished; awaiting finish of 2 more threads\n",
      "INFO - 21:03:27: worker thread finished; awaiting finish of 1 more threads\n",
      "INFO - 21:03:27: worker thread finished; awaiting finish of 0 more threads\n",
      "INFO - 21:03:27: EPOCH - 23 : training on 3420491 raw words (1974727 effective words) took 1.7s, 1129520 effective words/s\n",
      "INFO - 21:03:28: EPOCH 24 - PROGRESS: at 56.29% examples, 1112277 words/s, in_qsize 13, out_qsize 0\n",
      "INFO - 21:03:28: worker thread finished; awaiting finish of 6 more threads\n",
      "INFO - 21:03:28: worker thread finished; awaiting finish of 5 more threads\n",
      "INFO - 21:03:28: worker thread finished; awaiting finish of 4 more threads\n",
      "INFO - 21:03:28: worker thread finished; awaiting finish of 3 more threads\n",
      "INFO - 21:03:28: worker thread finished; awaiting finish of 2 more threads\n",
      "INFO - 21:03:28: worker thread finished; awaiting finish of 1 more threads\n",
      "INFO - 21:03:28: worker thread finished; awaiting finish of 0 more threads\n",
      "INFO - 21:03:28: EPOCH - 24 : training on 3420491 raw words (1974364 effective words) took 1.7s, 1134834 effective words/s\n",
      "INFO - 21:03:29: EPOCH 25 - PROGRESS: at 56.57% examples, 1117213 words/s, in_qsize 13, out_qsize 0\n",
      "INFO - 21:03:30: worker thread finished; awaiting finish of 6 more threads\n",
      "INFO - 21:03:30: worker thread finished; awaiting finish of 5 more threads\n",
      "INFO - 21:03:30: worker thread finished; awaiting finish of 4 more threads\n",
      "INFO - 21:03:30: worker thread finished; awaiting finish of 3 more threads\n",
      "INFO - 21:03:30: worker thread finished; awaiting finish of 2 more threads\n",
      "INFO - 21:03:30: worker thread finished; awaiting finish of 1 more threads\n",
      "INFO - 21:03:30: worker thread finished; awaiting finish of 0 more threads\n",
      "INFO - 21:03:30: EPOCH - 25 : training on 3420491 raw words (1974670 effective words) took 1.7s, 1136625 effective words/s\n",
      "INFO - 21:03:31: EPOCH 26 - PROGRESS: at 56.57% examples, 1122049 words/s, in_qsize 13, out_qsize 0\n",
      "INFO - 21:03:32: worker thread finished; awaiting finish of 6 more threads\n",
      "INFO - 21:03:32: worker thread finished; awaiting finish of 5 more threads\n",
      "INFO - 21:03:32: worker thread finished; awaiting finish of 4 more threads\n",
      "INFO - 21:03:32: worker thread finished; awaiting finish of 3 more threads\n",
      "INFO - 21:03:32: worker thread finished; awaiting finish of 2 more threads\n",
      "INFO - 21:03:32: worker thread finished; awaiting finish of 1 more threads\n",
      "INFO - 21:03:32: worker thread finished; awaiting finish of 0 more threads\n",
      "INFO - 21:03:32: EPOCH - 26 : training on 3420491 raw words (1973182 effective words) took 1.7s, 1132185 effective words/s\n",
      "INFO - 21:03:33: EPOCH 27 - PROGRESS: at 56.57% examples, 1115131 words/s, in_qsize 13, out_qsize 0\n",
      "INFO - 21:03:34: worker thread finished; awaiting finish of 6 more threads\n",
      "INFO - 21:03:34: worker thread finished; awaiting finish of 5 more threads\n",
      "INFO - 21:03:34: worker thread finished; awaiting finish of 4 more threads\n",
      "INFO - 21:03:34: worker thread finished; awaiting finish of 3 more threads\n",
      "INFO - 21:03:34: worker thread finished; awaiting finish of 2 more threads\n",
      "INFO - 21:03:34: worker thread finished; awaiting finish of 1 more threads\n",
      "INFO - 21:03:34: worker thread finished; awaiting finish of 0 more threads\n",
      "INFO - 21:03:34: EPOCH - 27 : training on 3420491 raw words (1974785 effective words) took 1.7s, 1132762 effective words/s\n",
      "INFO - 21:03:35: EPOCH 28 - PROGRESS: at 56.29% examples, 1115766 words/s, in_qsize 13, out_qsize 0\n",
      "INFO - 21:03:35: worker thread finished; awaiting finish of 6 more threads\n",
      "INFO - 21:03:35: worker thread finished; awaiting finish of 5 more threads\n",
      "INFO - 21:03:35: worker thread finished; awaiting finish of 4 more threads\n",
      "INFO - 21:03:35: worker thread finished; awaiting finish of 3 more threads\n",
      "INFO - 21:03:35: worker thread finished; awaiting finish of 2 more threads\n",
      "INFO - 21:03:35: worker thread finished; awaiting finish of 1 more threads\n",
      "INFO - 21:03:35: worker thread finished; awaiting finish of 0 more threads\n",
      "INFO - 21:03:35: EPOCH - 28 : training on 3420491 raw words (1974933 effective words) took 1.8s, 1127682 effective words/s\n",
      "INFO - 21:03:36: EPOCH 29 - PROGRESS: at 55.71% examples, 1103727 words/s, in_qsize 13, out_qsize 0\n",
      "INFO - 21:03:37: worker thread finished; awaiting finish of 6 more threads\n",
      "INFO - 21:03:37: worker thread finished; awaiting finish of 5 more threads\n",
      "INFO - 21:03:37: worker thread finished; awaiting finish of 4 more threads\n",
      "INFO - 21:03:37: worker thread finished; awaiting finish of 3 more threads\n",
      "INFO - 21:03:37: worker thread finished; awaiting finish of 2 more threads\n",
      "INFO - 21:03:37: worker thread finished; awaiting finish of 1 more threads\n",
      "INFO - 21:03:37: worker thread finished; awaiting finish of 0 more threads\n",
      "INFO - 21:03:37: EPOCH - 29 : training on 3420491 raw words (1972953 effective words) took 1.8s, 1124900 effective words/s\n",
      "INFO - 21:03:38: EPOCH 30 - PROGRESS: at 56.00% examples, 1107438 words/s, in_qsize 13, out_qsize 0\n",
      "INFO - 21:03:39: worker thread finished; awaiting finish of 6 more threads\n",
      "INFO - 21:03:39: worker thread finished; awaiting finish of 5 more threads\n",
      "INFO - 21:03:39: worker thread finished; awaiting finish of 4 more threads\n",
      "INFO - 21:03:39: worker thread finished; awaiting finish of 3 more threads\n",
      "INFO - 21:03:39: worker thread finished; awaiting finish of 2 more threads\n",
      "INFO - 21:03:39: worker thread finished; awaiting finish of 1 more threads\n",
      "INFO - 21:03:39: worker thread finished; awaiting finish of 0 more threads\n",
      "INFO - 21:03:39: EPOCH - 30 : training on 3420491 raw words (1975366 effective words) took 1.8s, 1122380 effective words/s\n",
      "INFO - 21:03:39: Word2Vec lifecycle event {'msg': 'training on 102614730 raw words (59230768 effective words) took 55.6s, 1065316 effective words/s', 'datetime': '2021-04-29T21:03:39.339239', 'gensim': '4.0.1', 'python': '3.8.8 (default, Apr 13 2021, 19:58:26) \\n[GCC 7.3.0]', 'platform': 'Linux-4.15.0-142-generic-x86_64-with-glibc2.10', 'event': 'train'}\n"
     ]
    },
    {
     "name": "stdout",
     "output_type": "stream",
     "text": [
      "Time to train the model: 0.93 mins\n"
     ]
    }
   ],
   "source": [
    "t = time()\n",
    "\n",
    "#train word2vec model \n",
    "model.train(data['Documents'], total_examples=model.corpus_count, epochs=30, report_delay=1)\n",
    "\n",
    "print('Time to train the model: {} mins'.format(round((time() - t) / 60, 2)))"
   ]
  },
  {
   "cell_type": "code",
   "execution_count": 21,
   "metadata": {},
   "outputs": [
    {
     "name": "stderr",
     "output_type": "stream",
     "text": [
      "INFO - 21:03:39: Word2Vec lifecycle event {'fname_or_handle': 'model.bin', 'separately': 'None', 'sep_limit': 10485760, 'ignore': frozenset(), 'datetime': '2021-04-29T21:03:39.342575', 'gensim': '4.0.1', 'python': '3.8.8 (default, Apr 13 2021, 19:58:26) \\n[GCC 7.3.0]', 'platform': 'Linux-4.15.0-142-generic-x86_64-with-glibc2.10', 'event': 'saving'}\n",
      "INFO - 21:03:39: not storing attribute cum_table\n",
      "INFO - 21:03:39: saved model.bin\n"
     ]
    }
   ],
   "source": [
    "# save model\n",
    "model.save('model.bin')"
   ]
  },
  {
   "cell_type": "markdown",
   "metadata": {},
   "source": [
    "# Feature Extraction (word2vec)"
   ]
  },
  {
   "cell_type": "markdown",
   "metadata": {},
   "source": [
    "Base line number of features = 100"
   ]
  },
  {
   "cell_type": "code",
   "execution_count": 22,
   "metadata": {},
   "outputs": [],
   "source": [
    "def make_feature_vec(words, model, num_features):\n",
    "    \"\"\"\n",
    "    Average the word vectors for a set of words\n",
    "    \"\"\"\n",
    "    feature_vec = np.zeros((num_features,),dtype=\"float32\")  # pre-initialize (for speed)\n",
    "    nwords = 0.\n",
    "    index2word_set = set(model.wv.index_to_key)  # words known to the model\n",
    "\n",
    "    for word in words:\n",
    "        if word in index2word_set: \n",
    "            nwords = nwords + 1.\n",
    "            feature_vec = np.add(feature_vec,model.wv[word])\n",
    "    \n",
    "    feature_vec = np.divide(feature_vec, nwords)\n",
    "    return feature_vec\n",
    "\n",
    "\n",
    "def get_avg_feature_vecs(words, model, num_features):\n",
    "    \"\"\"\n",
    "    Calculate average feature vectors for all headlines \n",
    "    \"\"\"\n",
    "    counter = 0\n",
    "    feature_vecs = np.zeros((len(words),num_features), dtype='float32')  # pre-initialize (for speed)\n",
    "    \n",
    "    for word in words:\n",
    "        feature_vecs[counter] = make_feature_vec(word, model, num_features)\n",
    "        counter = counter + 1\n",
    "    return feature_vecs"
   ]
  },
  {
   "cell_type": "code",
   "execution_count": 23,
   "metadata": {},
   "outputs": [],
   "source": [
    "word2vec = get_avg_feature_vecs(data['Documents'], model, 100)"
   ]
  },
  {
   "cell_type": "code",
   "execution_count": 24,
   "metadata": {},
   "outputs": [],
   "source": [
    "# remove instances in test set that could not be represented as feature vectors\n",
    "nan_indices = list({x for x,y in np.argwhere(np.isnan(word2vec))})\n",
    "if len(nan_indices) > 0:\n",
    "    print('Removing {:d} instances from test set.'.format(len(nan_indices)))\n",
    "    word2vec = np.delete(word2vec, nan_indices, axis=0)\n",
    "    word2vec.drop(data.iloc[nan_indices, :].index, axis=0, inplace=True)\n",
    "    assert word2vec.shape[0] == len(data)"
   ]
  },
  {
   "cell_type": "code",
   "execution_count": 25,
   "metadata": {},
   "outputs": [
    {
     "data": {
      "text/html": [
       "<div>\n",
       "<style scoped>\n",
       "    .dataframe tbody tr th:only-of-type {\n",
       "        vertical-align: middle;\n",
       "    }\n",
       "\n",
       "    .dataframe tbody tr th {\n",
       "        vertical-align: top;\n",
       "    }\n",
       "\n",
       "    .dataframe thead th {\n",
       "        text-align: right;\n",
       "    }\n",
       "</style>\n",
       "<table border=\"1\" class=\"dataframe\">\n",
       "  <thead>\n",
       "    <tr style=\"text-align: right;\">\n",
       "      <th></th>\n",
       "      <th>News Category</th>\n",
       "      <th>Word Count</th>\n",
       "      <th>Noun Phrases</th>\n",
       "      <th>Noun Count</th>\n",
       "      <th>Adjective Count</th>\n",
       "      <th>Verb Count</th>\n",
       "      <th>0</th>\n",
       "      <th>1</th>\n",
       "      <th>2</th>\n",
       "      <th>3</th>\n",
       "      <th>...</th>\n",
       "      <th>90</th>\n",
       "      <th>91</th>\n",
       "      <th>92</th>\n",
       "      <th>93</th>\n",
       "      <th>94</th>\n",
       "      <th>95</th>\n",
       "      <th>96</th>\n",
       "      <th>97</th>\n",
       "      <th>98</th>\n",
       "      <th>99</th>\n",
       "    </tr>\n",
       "  </thead>\n",
       "  <tbody>\n",
       "    <tr>\n",
       "      <th>0</th>\n",
       "      <td>business</td>\n",
       "      <td>18</td>\n",
       "      <td>4</td>\n",
       "      <td>12</td>\n",
       "      <td>3</td>\n",
       "      <td>2</td>\n",
       "      <td>0.355217</td>\n",
       "      <td>-0.041954</td>\n",
       "      <td>0.470165</td>\n",
       "      <td>0.467087</td>\n",
       "      <td>...</td>\n",
       "      <td>0.469709</td>\n",
       "      <td>-0.170905</td>\n",
       "      <td>-0.112577</td>\n",
       "      <td>-0.197271</td>\n",
       "      <td>0.330662</td>\n",
       "      <td>-0.147216</td>\n",
       "      <td>-0.045830</td>\n",
       "      <td>-0.090750</td>\n",
       "      <td>-0.137804</td>\n",
       "      <td>-0.459132</td>\n",
       "    </tr>\n",
       "    <tr>\n",
       "      <th>1</th>\n",
       "      <td>business</td>\n",
       "      <td>27</td>\n",
       "      <td>5</td>\n",
       "      <td>15</td>\n",
       "      <td>4</td>\n",
       "      <td>3</td>\n",
       "      <td>0.247009</td>\n",
       "      <td>-0.315144</td>\n",
       "      <td>0.267489</td>\n",
       "      <td>0.120730</td>\n",
       "      <td>...</td>\n",
       "      <td>0.038810</td>\n",
       "      <td>-0.064230</td>\n",
       "      <td>-0.311590</td>\n",
       "      <td>-0.050263</td>\n",
       "      <td>-0.071159</td>\n",
       "      <td>-0.690443</td>\n",
       "      <td>-0.237539</td>\n",
       "      <td>-0.006161</td>\n",
       "      <td>0.062806</td>\n",
       "      <td>-0.133533</td>\n",
       "    </tr>\n",
       "    <tr>\n",
       "      <th>2</th>\n",
       "      <td>business</td>\n",
       "      <td>24</td>\n",
       "      <td>5</td>\n",
       "      <td>17</td>\n",
       "      <td>4</td>\n",
       "      <td>2</td>\n",
       "      <td>0.396499</td>\n",
       "      <td>-0.400545</td>\n",
       "      <td>0.478822</td>\n",
       "      <td>0.431972</td>\n",
       "      <td>...</td>\n",
       "      <td>0.421601</td>\n",
       "      <td>-0.737285</td>\n",
       "      <td>-0.396258</td>\n",
       "      <td>0.262834</td>\n",
       "      <td>-0.204615</td>\n",
       "      <td>0.204761</td>\n",
       "      <td>0.768816</td>\n",
       "      <td>0.434184</td>\n",
       "      <td>0.069389</td>\n",
       "      <td>-0.585188</td>\n",
       "    </tr>\n",
       "    <tr>\n",
       "      <th>3</th>\n",
       "      <td>business</td>\n",
       "      <td>28</td>\n",
       "      <td>3</td>\n",
       "      <td>19</td>\n",
       "      <td>6</td>\n",
       "      <td>3</td>\n",
       "      <td>-0.583359</td>\n",
       "      <td>-0.813260</td>\n",
       "      <td>0.163460</td>\n",
       "      <td>-0.306104</td>\n",
       "      <td>...</td>\n",
       "      <td>0.212820</td>\n",
       "      <td>-0.644868</td>\n",
       "      <td>-0.730603</td>\n",
       "      <td>0.202158</td>\n",
       "      <td>-0.109316</td>\n",
       "      <td>0.692571</td>\n",
       "      <td>0.213692</td>\n",
       "      <td>0.101697</td>\n",
       "      <td>0.240873</td>\n",
       "      <td>-0.902835</td>\n",
       "    </tr>\n",
       "    <tr>\n",
       "      <th>4</th>\n",
       "      <td>business</td>\n",
       "      <td>28</td>\n",
       "      <td>4</td>\n",
       "      <td>16</td>\n",
       "      <td>7</td>\n",
       "      <td>3</td>\n",
       "      <td>0.113757</td>\n",
       "      <td>-0.697131</td>\n",
       "      <td>0.313823</td>\n",
       "      <td>0.089451</td>\n",
       "      <td>...</td>\n",
       "      <td>0.504289</td>\n",
       "      <td>-0.403496</td>\n",
       "      <td>-0.328709</td>\n",
       "      <td>0.083523</td>\n",
       "      <td>0.449820</td>\n",
       "      <td>0.156665</td>\n",
       "      <td>0.466518</td>\n",
       "      <td>0.498509</td>\n",
       "      <td>0.257447</td>\n",
       "      <td>-0.371612</td>\n",
       "    </tr>\n",
       "    <tr>\n",
       "      <th>...</th>\n",
       "      <td>...</td>\n",
       "      <td>...</td>\n",
       "      <td>...</td>\n",
       "      <td>...</td>\n",
       "      <td>...</td>\n",
       "      <td>...</td>\n",
       "      <td>...</td>\n",
       "      <td>...</td>\n",
       "      <td>...</td>\n",
       "      <td>...</td>\n",
       "      <td>...</td>\n",
       "      <td>...</td>\n",
       "      <td>...</td>\n",
       "      <td>...</td>\n",
       "      <td>...</td>\n",
       "      <td>...</td>\n",
       "      <td>...</td>\n",
       "      <td>...</td>\n",
       "      <td>...</td>\n",
       "      <td>...</td>\n",
       "      <td>...</td>\n",
       "    </tr>\n",
       "    <tr>\n",
       "      <th>127595</th>\n",
       "      <td>world</td>\n",
       "      <td>19</td>\n",
       "      <td>3</td>\n",
       "      <td>9</td>\n",
       "      <td>4</td>\n",
       "      <td>5</td>\n",
       "      <td>-0.190988</td>\n",
       "      <td>-0.768347</td>\n",
       "      <td>-0.118009</td>\n",
       "      <td>0.073075</td>\n",
       "      <td>...</td>\n",
       "      <td>0.050432</td>\n",
       "      <td>-0.705201</td>\n",
       "      <td>0.023721</td>\n",
       "      <td>-0.367270</td>\n",
       "      <td>0.278176</td>\n",
       "      <td>-0.244664</td>\n",
       "      <td>-0.279949</td>\n",
       "      <td>0.023660</td>\n",
       "      <td>-0.155401</td>\n",
       "      <td>0.655922</td>\n",
       "    </tr>\n",
       "    <tr>\n",
       "      <th>127596</th>\n",
       "      <td>sports</td>\n",
       "      <td>41</td>\n",
       "      <td>7</td>\n",
       "      <td>17</td>\n",
       "      <td>9</td>\n",
       "      <td>10</td>\n",
       "      <td>-0.212292</td>\n",
       "      <td>0.076336</td>\n",
       "      <td>0.123556</td>\n",
       "      <td>0.093281</td>\n",
       "      <td>...</td>\n",
       "      <td>0.348198</td>\n",
       "      <td>-0.530561</td>\n",
       "      <td>-0.589657</td>\n",
       "      <td>-0.114532</td>\n",
       "      <td>0.352410</td>\n",
       "      <td>-0.387817</td>\n",
       "      <td>-0.167757</td>\n",
       "      <td>-0.298524</td>\n",
       "      <td>0.127930</td>\n",
       "      <td>-0.565600</td>\n",
       "    </tr>\n",
       "    <tr>\n",
       "      <th>127597</th>\n",
       "      <td>sports</td>\n",
       "      <td>20</td>\n",
       "      <td>5</td>\n",
       "      <td>9</td>\n",
       "      <td>3</td>\n",
       "      <td>3</td>\n",
       "      <td>0.078491</td>\n",
       "      <td>-0.182600</td>\n",
       "      <td>0.281616</td>\n",
       "      <td>0.040292</td>\n",
       "      <td>...</td>\n",
       "      <td>0.456506</td>\n",
       "      <td>-0.367570</td>\n",
       "      <td>-0.223842</td>\n",
       "      <td>-0.258353</td>\n",
       "      <td>0.688431</td>\n",
       "      <td>0.258238</td>\n",
       "      <td>-0.218759</td>\n",
       "      <td>-0.206043</td>\n",
       "      <td>0.541763</td>\n",
       "      <td>-0.877581</td>\n",
       "    </tr>\n",
       "    <tr>\n",
       "      <th>127598</th>\n",
       "      <td>business</td>\n",
       "      <td>21</td>\n",
       "      <td>4</td>\n",
       "      <td>10</td>\n",
       "      <td>4</td>\n",
       "      <td>4</td>\n",
       "      <td>-1.019884</td>\n",
       "      <td>-0.538842</td>\n",
       "      <td>-0.277297</td>\n",
       "      <td>0.236358</td>\n",
       "      <td>...</td>\n",
       "      <td>-0.698295</td>\n",
       "      <td>-0.684413</td>\n",
       "      <td>-0.719703</td>\n",
       "      <td>-0.278060</td>\n",
       "      <td>0.357584</td>\n",
       "      <td>-0.509784</td>\n",
       "      <td>0.322050</td>\n",
       "      <td>0.348169</td>\n",
       "      <td>0.267151</td>\n",
       "      <td>0.027247</td>\n",
       "    </tr>\n",
       "    <tr>\n",
       "      <th>127599</th>\n",
       "      <td>business</td>\n",
       "      <td>19</td>\n",
       "      <td>4</td>\n",
       "      <td>8</td>\n",
       "      <td>4</td>\n",
       "      <td>4</td>\n",
       "      <td>0.034852</td>\n",
       "      <td>0.852408</td>\n",
       "      <td>0.783133</td>\n",
       "      <td>0.590128</td>\n",
       "      <td>...</td>\n",
       "      <td>0.081295</td>\n",
       "      <td>0.248492</td>\n",
       "      <td>0.000968</td>\n",
       "      <td>0.078281</td>\n",
       "      <td>-0.586598</td>\n",
       "      <td>-0.302892</td>\n",
       "      <td>-0.319167</td>\n",
       "      <td>0.546495</td>\n",
       "      <td>0.432202</td>\n",
       "      <td>-1.066295</td>\n",
       "    </tr>\n",
       "  </tbody>\n",
       "</table>\n",
       "<p>127600 rows × 106 columns</p>\n",
       "</div>"
      ],
      "text/plain": [
       "       News Category  Word Count  Noun Phrases  Noun Count  Adjective Count  \\\n",
       "0           business          18             4          12                3   \n",
       "1           business          27             5          15                4   \n",
       "2           business          24             5          17                4   \n",
       "3           business          28             3          19                6   \n",
       "4           business          28             4          16                7   \n",
       "...              ...         ...           ...         ...              ...   \n",
       "127595         world          19             3           9                4   \n",
       "127596        sports          41             7          17                9   \n",
       "127597        sports          20             5           9                3   \n",
       "127598      business          21             4          10                4   \n",
       "127599      business          19             4           8                4   \n",
       "\n",
       "        Verb Count         0         1         2         3  ...        90  \\\n",
       "0                2  0.355217 -0.041954  0.470165  0.467087  ...  0.469709   \n",
       "1                3  0.247009 -0.315144  0.267489  0.120730  ...  0.038810   \n",
       "2                2  0.396499 -0.400545  0.478822  0.431972  ...  0.421601   \n",
       "3                3 -0.583359 -0.813260  0.163460 -0.306104  ...  0.212820   \n",
       "4                3  0.113757 -0.697131  0.313823  0.089451  ...  0.504289   \n",
       "...            ...       ...       ...       ...       ...  ...       ...   \n",
       "127595           5 -0.190988 -0.768347 -0.118009  0.073075  ...  0.050432   \n",
       "127596          10 -0.212292  0.076336  0.123556  0.093281  ...  0.348198   \n",
       "127597           3  0.078491 -0.182600  0.281616  0.040292  ...  0.456506   \n",
       "127598           4 -1.019884 -0.538842 -0.277297  0.236358  ... -0.698295   \n",
       "127599           4  0.034852  0.852408  0.783133  0.590128  ...  0.081295   \n",
       "\n",
       "              91        92        93        94        95        96        97  \\\n",
       "0      -0.170905 -0.112577 -0.197271  0.330662 -0.147216 -0.045830 -0.090750   \n",
       "1      -0.064230 -0.311590 -0.050263 -0.071159 -0.690443 -0.237539 -0.006161   \n",
       "2      -0.737285 -0.396258  0.262834 -0.204615  0.204761  0.768816  0.434184   \n",
       "3      -0.644868 -0.730603  0.202158 -0.109316  0.692571  0.213692  0.101697   \n",
       "4      -0.403496 -0.328709  0.083523  0.449820  0.156665  0.466518  0.498509   \n",
       "...          ...       ...       ...       ...       ...       ...       ...   \n",
       "127595 -0.705201  0.023721 -0.367270  0.278176 -0.244664 -0.279949  0.023660   \n",
       "127596 -0.530561 -0.589657 -0.114532  0.352410 -0.387817 -0.167757 -0.298524   \n",
       "127597 -0.367570 -0.223842 -0.258353  0.688431  0.258238 -0.218759 -0.206043   \n",
       "127598 -0.684413 -0.719703 -0.278060  0.357584 -0.509784  0.322050  0.348169   \n",
       "127599  0.248492  0.000968  0.078281 -0.586598 -0.302892 -0.319167  0.546495   \n",
       "\n",
       "              98        99  \n",
       "0      -0.137804 -0.459132  \n",
       "1       0.062806 -0.133533  \n",
       "2       0.069389 -0.585188  \n",
       "3       0.240873 -0.902835  \n",
       "4       0.257447 -0.371612  \n",
       "...          ...       ...  \n",
       "127595 -0.155401  0.655922  \n",
       "127596  0.127930 -0.565600  \n",
       "127597  0.541763 -0.877581  \n",
       "127598  0.267151  0.027247  \n",
       "127599  0.432202 -1.066295  \n",
       "\n",
       "[127600 rows x 106 columns]"
      ]
     },
     "execution_count": 25,
     "metadata": {},
     "output_type": "execute_result"
    }
   ],
   "source": [
    "w2v = pd.DataFrame(word2vec)\n",
    "\n",
    "data.reset_index(drop=True, inplace=True)\n",
    "w2v.reset_index(drop=True, inplace=True)\n",
    "#df = pd.concat([df1, df2], axis=1)\n",
    "w2v = pd.concat([data[['News Category','Word Count','Noun Phrases','Noun Count',\n",
    "                                         'Adjective Count','Verb Count']],w2v],axis=1)\n",
    "\n",
    "w2v"
   ]
  },
  {
   "cell_type": "code",
   "execution_count": 26,
   "metadata": {},
   "outputs": [],
   "source": [
    "# X dataframe \n",
    "X = w2v.drop(['News Category'],axis=1) \n",
    "# y series\n",
    "y = w2v['News Category']\n",
    "\n",
    "X_train,X_test,y_train,y_test = train_test_split(X,y,test_size=0.3)"
   ]
  },
  {
   "cell_type": "markdown",
   "metadata": {},
   "source": [
    "# Classifications Models"
   ]
  },
  {
   "cell_type": "markdown",
   "metadata": {},
   "source": [
    "# Random Forest Classifier"
   ]
  },
  {
   "cell_type": "code",
   "execution_count": 27,
   "metadata": {},
   "outputs": [],
   "source": [
    "from sklearn.metrics import classification_report, confusion_matrix, accuracy_score"
   ]
  },
  {
   "cell_type": "code",
   "execution_count": 28,
   "metadata": {},
   "outputs": [
    {
     "name": "stdout",
     "output_type": "stream",
     "text": [
      "Fitting a random forest to labeled training data...\n",
      "Time to train Random Forest Model: 1.65 mins\n"
     ]
    }
   ],
   "source": [
    "from sklearn.ensemble import RandomForestClassifier\n",
    "\n",
    "# Fit a random forest to the training data, using 100 trees\n",
    "forest = RandomForestClassifier(n_estimators = 100)\n",
    "\n",
    "start_time = time()\n",
    "\n",
    "print(\"Fitting a random forest to labeled training data...\")\n",
    "#forest = forest.fit(trainDataVecs, train_words['News Category'])\n",
    "forest = forest.fit(X_train, y_train)\n",
    "\n",
    "rf_tt = round((time() - start_time) / 60, 2)\n",
    "\n",
    "print('Time to train Random Forest Model: {} mins'.format(rf_tt))"
   ]
  },
  {
   "cell_type": "code",
   "execution_count": 29,
   "metadata": {},
   "outputs": [
    {
     "name": "stdout",
     "output_type": "stream",
     "text": [
      "Time taken for label prediction using Random Forest model: 0.01 mins\n"
     ]
    }
   ],
   "source": [
    "start_time = time()\n",
    "\n",
    "rf_result = forest.predict(X_test)\n",
    "\n",
    "rf_pt = round((time() - start_time) / 60, 2)\n",
    "\n",
    "print('Time taken for label prediction using Random Forest model: {} mins'.format(rf_pt))"
   ]
  },
  {
   "cell_type": "code",
   "execution_count": 30,
   "metadata": {},
   "outputs": [],
   "source": [
    "rf = round(accuracy_score(y_test, rf_result)*100,3)"
   ]
  },
  {
   "cell_type": "code",
   "execution_count": 31,
   "metadata": {},
   "outputs": [
    {
     "name": "stdout",
     "output_type": "stream",
     "text": [
      "                        precision    recall  f1-score   support\n",
      "\n",
      "              business       0.86      0.86      0.86      9477\n",
      "science_and_technology       0.86      0.87      0.87      9575\n",
      "                sports       0.94      0.97      0.95      9486\n",
      "                 world       0.92      0.88      0.90      9742\n",
      "\n",
      "              accuracy                           0.90     38280\n",
      "             macro avg       0.90      0.90      0.90     38280\n",
      "          weighted avg       0.90      0.90      0.90     38280\n",
      "\n"
     ]
    }
   ],
   "source": [
    "print(classification_report(y_test, rf_result))"
   ]
  },
  {
   "cell_type": "code",
   "execution_count": 36,
   "metadata": {},
   "outputs": [
    {
     "data": {
      "image/png": "[encoded data removed]",
      "text/plain": [
       "<Figure size 504x504 with 1 Axes>"
      ]
     },
     "metadata": {},
     "output_type": "display_data"
    }
   ],
   "source": [
    "from sklearn.metrics import  confusion_matrix\n",
    "import seaborn as sns\n",
    "\n",
    "sns.set(font_scale=1.2)\n",
    "cof=confusion_matrix(y_test, rf_result)\n",
    "cof=pd.DataFrame(cof, index=[i for i in range(1,5)], columns=[i for i in range(1,5)])\n",
    "plt.figure(figsize=(7,7))\n",
    "\n",
    "sns.heatmap(cof, cmap=\"BuPu\",linewidths=1, annot=True,square=True,cbar=False,fmt='d',\n",
    "            xticklabels=['World','Sports','Business','Science'],\n",
    "            yticklabels=['World','Sports','Business','Science'])\n",
    "plt.xlabel(\"\\nPredicted Class\");\n",
    "plt.ylabel(\"Actual Class\\n\");\n",
    "# plt.savefig('W2V Confusion Matrix for News Article Classification using Random Forest.png', bbox_inches='tight')\n",
    "plt.title(\"\\nConfusion Matrix for News Article Classification using Random Forest\\n\");"
   ]
  },
  {
   "cell_type": "markdown",
   "metadata": {},
   "source": [
    "# Naive Bayes Classsifier"
   ]
  },
  {
   "cell_type": "code",
   "execution_count": 37,
   "metadata": {},
   "outputs": [
    {
     "name": "stdout",
     "output_type": "stream",
     "text": [
      "Fitting a Naive Bayes to labeled training data...\n",
      "Time to train Naive Bayes Model: 0.0 mins\n"
     ]
    }
   ],
   "source": [
    "# train a Gaussian Naive Bayes classifier on the training set\n",
    "from sklearn.naive_bayes import GaussianNB\n",
    "\n",
    "\n",
    "# instantiate the model\n",
    "gnb = GaussianNB()\n",
    "\n",
    "print(\"Fitting a Naive Bayes to labeled training data...\")\n",
    "\n",
    "start_time = time()\n",
    "\n",
    "# fit the model\n",
    "gnb.fit(X_train, y_train)\n",
    "\n",
    "nb_tt = round((time() - start_time) / 60, 2)\n",
    "\n",
    "print('Time to train Naive Bayes Model: {} mins'.format(nb_tt))"
   ]
  },
  {
   "cell_type": "code",
   "execution_count": 38,
   "metadata": {},
   "outputs": [
    {
     "name": "stdout",
     "output_type": "stream",
     "text": [
      "Time taken for label prediction using Naive Bayes model: 0.0 mins\n"
     ]
    }
   ],
   "source": [
    "start_time = time()\n",
    "\n",
    "nb_result = gnb.predict(X_test)\n",
    "\n",
    "nb_pt = round((time() - start_time) / 60, 2)\n",
    "\n",
    "print('Time taken for label prediction using Naive Bayes model: {} mins'.format(nb_pt))"
   ]
  },
  {
   "cell_type": "code",
   "execution_count": 39,
   "metadata": {},
   "outputs": [],
   "source": [
    "nb = round(accuracy_score(y_test, nb_result)*100,3)"
   ]
  },
  {
   "cell_type": "code",
   "execution_count": 40,
   "metadata": {},
   "outputs": [
    {
     "name": "stdout",
     "output_type": "stream",
     "text": [
      "                        precision    recall  f1-score   support\n",
      "\n",
      "              business       0.84      0.80      0.82      9477\n",
      "science_and_technology       0.81      0.81      0.81      9575\n",
      "                sports       0.90      0.95      0.92      9486\n",
      "                 world       0.86      0.87      0.87      9742\n",
      "\n",
      "              accuracy                           0.86     38280\n",
      "             macro avg       0.85      0.86      0.85     38280\n",
      "          weighted avg       0.85      0.86      0.85     38280\n",
      "\n"
     ]
    }
   ],
   "source": [
    "print(classification_report(y_test, nb_result))"
   ]
  },
  {
   "cell_type": "code",
   "execution_count": 41,
   "metadata": {},
   "outputs": [
    {
     "data": {
      "image/png": "[encoded data removed]",
      "text/plain": [
       "<Figure size 504x504 with 1 Axes>"
      ]
     },
     "metadata": {},
     "output_type": "display_data"
    }
   ],
   "source": [
    "sns.set(font_scale=1.2)\n",
    "cof=confusion_matrix(y_test, nb_result)\n",
    "cof=pd.DataFrame(cof, index=[i for i in range(1,5)], columns=[i for i in range(1,5)])\n",
    "plt.figure(figsize=(7,7))\n",
    "\n",
    "sns.heatmap(cof, cmap=\"BuPu\",linewidths=1, annot=True,square=True,cbar=False,fmt='d',\n",
    "            xticklabels=['World','Sports','Business','Science'],\n",
    "            yticklabels=['World','Sports','Business','Science'])\n",
    "plt.xlabel(\"\\nPredicted Class\");\n",
    "plt.ylabel(\"Actual Class\\n\");\n",
    "# plt.savefig('W2V Confusion Matrix for News Article Classification using Naive Bayes.png', bbox_inches='tight')\n",
    "plt.title(\"\\nConfusion Matrix for News Article Classification using Naive Bayes\\n\");"
   ]
  },
  {
   "cell_type": "markdown",
   "metadata": {},
   "source": [
    "# Logistic Regression Classifier"
   ]
  },
  {
   "cell_type": "code",
   "execution_count": 42,
   "metadata": {},
   "outputs": [],
   "source": [
    "from sklearn.linear_model import LogisticRegression"
   ]
  },
  {
   "cell_type": "code",
   "execution_count": 43,
   "metadata": {},
   "outputs": [
    {
     "name": "stdout",
     "output_type": "stream",
     "text": [
      "Fitting a Logistic Regression model to labeled training data...\n",
      "Time to train Logistic Regression Model: 0.05 mins\n"
     ]
    }
   ],
   "source": [
    "logit = LogisticRegression()\n",
    "\n",
    "print(\"Fitting a Logistic Regression model to labeled training data...\")\n",
    "\n",
    "start_time = time()\n",
    "\n",
    "logit.fit(X_train,y_train)\n",
    "\n",
    "lr_tt = round((time() - start_time) / 60, 2)\n",
    "\n",
    "print('Time to train Logistic Regression Model: {} mins'.format(lr_tt))\n"
   ]
  },
  {
   "cell_type": "code",
   "execution_count": 44,
   "metadata": {},
   "outputs": [
    {
     "name": "stdout",
     "output_type": "stream",
     "text": [
      "Time taken for label prediction using Logistic Regression model: 0.0 mins\n"
     ]
    }
   ],
   "source": [
    "start_time = time()\n",
    "\n",
    "lr_result = logit.predict(X_test)\n",
    "\n",
    "lr_pt = round((time() - start_time) / 60, 2)\n",
    "\n",
    "print('Time taken for label prediction using Logistic Regression model: {} mins'.format(lr_pt))"
   ]
  },
  {
   "cell_type": "code",
   "execution_count": 45,
   "metadata": {},
   "outputs": [],
   "source": [
    "lr = round(accuracy_score(y_test, lr_result)*100,3)"
   ]
  },
  {
   "cell_type": "code",
   "execution_count": 46,
   "metadata": {},
   "outputs": [
    {
     "data": {
      "image/png": "[encoded data removed]",
      "text/plain": [
       "<Figure size 504x504 with 1 Axes>"
      ]
     },
     "metadata": {},
     "output_type": "display_data"
    }
   ],
   "source": [
    "sns.set(font_scale=1.2)\n",
    "cof=confusion_matrix(y_test, lr_result)\n",
    "cof=pd.DataFrame(cof, index=[i for i in range(1,5)], columns=[i for i in range(1,5)])\n",
    "plt.figure(figsize=(7,7))\n",
    "\n",
    "sns.heatmap(cof, cmap=\"BuPu\",linewidths=1, annot=True,square=True,cbar=False,fmt='d',\n",
    "            xticklabels=['World','Sports','Business','Science'],\n",
    "            yticklabels=['World','Sports','Business','Science'])\n",
    "plt.xlabel(\"\\nPredicted Class\");\n",
    "plt.ylabel(\"Actual Class\\n\");\n",
    "# plt.savefig('W2V Confusion Matrix for News Article Classification using Logistic Regression.png', bbox_inches='tight')\n",
    "plt.title(\"\\nConfusion Matrix for News Article Classification using Logistic Regression\\n\");"
   ]
  },
  {
   "cell_type": "markdown",
   "metadata": {},
   "source": [
    "# SVM Classifier"
   ]
  },
  {
   "cell_type": "code",
   "execution_count": 47,
   "metadata": {},
   "outputs": [],
   "source": [
    "from sklearn.svm import SVC"
   ]
  },
  {
   "cell_type": "code",
   "execution_count": 48,
   "metadata": {},
   "outputs": [
    {
     "name": "stdout",
     "output_type": "stream",
     "text": [
      "Fitting a SVM model to labeled training data...\n",
      "Time to train SVM mode: 5.01 mins\n"
     ]
    }
   ],
   "source": [
    "svc = SVC()\n",
    "\n",
    "print(\"Fitting a SVM model to labeled training data...\")\n",
    "\n",
    "start_time = time()\n",
    "\n",
    "svc.fit(X_train,y_train)\n",
    "\n",
    "svm_tt = round((time() - start_time) / 60, 2)\n",
    "\n",
    "print('Time to train SVM mode: {} mins'.format(svm_tt))"
   ]
  },
  {
   "cell_type": "code",
   "execution_count": 49,
   "metadata": {},
   "outputs": [
    {
     "name": "stdout",
     "output_type": "stream",
     "text": [
      "Time taken for label prediction using SVM model: 1.72 mins\n"
     ]
    }
   ],
   "source": [
    "start_time = time()\n",
    "\n",
    "svm_result = svc.predict(X_test)\n",
    "\n",
    "svm_pt = round((time() - start_time) / 60, 2)\n",
    "\n",
    "print('Time taken for label prediction using SVM model: {} mins'.format(svm_pt))"
   ]
  },
  {
   "cell_type": "code",
   "execution_count": 50,
   "metadata": {},
   "outputs": [],
   "source": [
    "svm = round(accuracy_score(y_test, svm_result)*100,3)"
   ]
  },
  {
   "cell_type": "code",
   "execution_count": 51,
   "metadata": {},
   "outputs": [
    {
     "data": {
      "image/png": "[encoded data removed]",
      "text/plain": [
       "<Figure size 504x504 with 1 Axes>"
      ]
     },
     "metadata": {},
     "output_type": "display_data"
    }
   ],
   "source": [
    "sns.set(font_scale=1.2)\n",
    "cof=confusion_matrix(y_test, svm_result)\n",
    "cof=pd.DataFrame(cof, index=[i for i in range(1,5)], columns=[i for i in range(1,5)])\n",
    "plt.figure(figsize=(7,7))\n",
    "\n",
    "sns.heatmap(cof, cmap=\"BuPu\",linewidths=1, annot=True,square=True,cbar=False,fmt='d',\n",
    "            xticklabels=['World','Sports','Business','Science'],\n",
    "            yticklabels=['World','Sports','Business','Science'])\n",
    "plt.xlabel(\"\\nPredicted Class\");\n",
    "plt.ylabel(\"Actual Class\\n\");\n",
    "# plt.savefig('W2V Confusion Matrix for News Article Classification using SVM.png', bbox_inches='tight')\n",
    "plt.title(\"\\nConfusion Matrix for News Article Classification using SVM\\n\");"
   ]
  },
  {
   "cell_type": "markdown",
   "metadata": {},
   "source": [
    "# Comparison of models (Accuracy)"
   ]
  },
  {
   "cell_type": "code",
   "execution_count": 52,
   "metadata": {},
   "outputs": [
    {
     "data": {
      "image/png": "[encoded data removed]",
      "text/plain": [
       "<Figure size 432x288 with 1 Axes>"
      ]
     },
     "metadata": {},
     "output_type": "display_data"
    }
   ],
   "source": [
    "sns.set(font_scale=1.2)\n",
    "fig = plt.figure()\n",
    "ax = fig.add_axes([0,0,1,1])\n",
    "Models = ['RandomForest', 'GaussianNB', 'Logistic', 'SVM']\n",
    "Accuracy=[rf,nb,lr,svm]\n",
    "ax.bar(Models,Accuracy,color=[\"lightgreen\",\"pink\", \"skyblue\", \"lightyellow\"]);\n",
    "for i in ax.patches:\n",
    "    ax.text(i.get_x()+.1, i.get_height()-5.5, str(round(i.get_height(),2))+'%', fontsize=15, color='black')\n",
    "plt.title('Comparison of Classification Models trained using word2vec + grammatical + syntax features \\n');\n",
    "plt.ylabel('Accuracy\\n');\n",
    "plt.xlabel('\\nClassification Models');\n",
    "# plt.savefig('W2V Comparison of Classification Models trained using word2vec + grammatical + syntax features.png', bbox_inches='tight')\n",
    "plt.show();"
   ]
  },
  {
   "cell_type": "markdown",
   "metadata": {},
   "source": [
    "# Comparison of models (Training Time)"
   ]
  },
  {
   "cell_type": "code",
   "execution_count": 53,
   "metadata": {},
   "outputs": [
    {
     "data": {
      "image/png": "[encoded data removed]",
      "text/plain": [
       "<Figure size 432x288 with 1 Axes>"
      ]
     },
     "metadata": {},
     "output_type": "display_data"
    }
   ],
   "source": [
    "sns.set(font_scale=1.2)\n",
    "fig = plt.figure()\n",
    "ax = fig.add_axes([0,0,1,1])\n",
    "Models = ['RandomForest', 'GaussianNB', 'Logistic', 'SVM']\n",
    "TrainingTime=[rf_tt,nb_tt,lr_tt,svm_tt]\n",
    "ax.bar(Models,TrainingTime,color=[\"lightyellow\",\"lightgreen\", \"skyblue\", \"pink\"]);\n",
    "for i in ax.patches:\n",
    "    ax.text(i.get_x()+.2, i.get_height(), str(round(i.get_height(),2)), fontsize=14, color='black')\n",
    "plt.title('Comparison of Different Classification Models Training Time \\n');\n",
    "plt.ylabel('Training Time (in mins)\\n');\n",
    "plt.xlabel('\\nClassification Models');\n",
    "# plt.savefig('W2V Comparison of Different Classification Models Training Time.png', bbox_inches='tight')\n",
    "plt.show();"
   ]
  },
  {
   "cell_type": "markdown",
   "metadata": {},
   "source": [
    "# Comparison of models (Label Classification Time)"
   ]
  },
  {
   "cell_type": "code",
   "execution_count": 54,
   "metadata": {},
   "outputs": [
    {
     "data": {
      "image/png": "[encoded data removed]",
      "text/plain": [
       "<Figure size 432x288 with 1 Axes>"
      ]
     },
     "metadata": {},
     "output_type": "display_data"
    }
   ],
   "source": [
    "sns.set(font_scale=1.2)\n",
    "fig = plt.figure()\n",
    "ax = fig.add_axes([0,0,1,1])\n",
    "Models = ['RandomForest', 'GaussianNB', 'Logistic', 'SVM']\n",
    "PredictTime=[rf_pt,nb_pt,lr_pt,svm_pt]\n",
    "ax.bar(Models,PredictTime,color=[\"lightyellow\",\"lightgreen\", \"skyblue\", \"pink\"]);\n",
    "for i in ax.patches:\n",
    "    ax.text(i.get_x()+.2, i.get_height(), str(round(i.get_height(),2)), fontsize=14, color='black')\n",
    "plt.title('Comparison of Different Classification Models Label Classification Time \\n');\n",
    "plt.ylabel('Label Classification Time (in mins)\\n');\n",
    "plt.xlabel('\\nClassification Models');\n",
    "# plt.savefig('W2V Comparison of Different Classification Models Label Classification Time.png', bbox_inches='tight')\n",
    "plt.show();"
   ]
  },
  {
   "cell_type": "markdown",
   "metadata": {},
   "source": [
    "# Model Training & Evaluation using Cross-Validation approach"
   ]
  },
  {
   "cell_type": "markdown",
   "metadata": {},
   "source": [
    "Logistic Regression"
   ]
  },
  {
   "cell_type": "code",
   "execution_count": 55,
   "metadata": {},
   "outputs": [],
   "source": [
    "lr = LogisticRegression(solver='newton-cg')\n",
    "\n",
    "skf = StratifiedKFold(n_splits=5, shuffle=True, random_state=1)\n",
    "lr_acc = []\n",
    "\n",
    "for train_index, vaild_index in skf.split(X_train,y_train):\n",
    "    x_t, x_v = X_train.iloc[train_index], X_train.iloc[vaild_index]\n",
    "    y_t, y_v = y_train.iloc[train_index], y_train.iloc[vaild_index]\n",
    "    lr.fit(x_t, y_t)\n",
    "    lr_acc.append(lr.score(x_v, y_v))\n",
    "    \n",
    "    "
   ]
  },
  {
   "cell_type": "code",
   "execution_count": 56,
   "metadata": {},
   "outputs": [
    {
     "name": "stdout",
     "output_type": "stream",
     "text": [
      "[0.8927451858486342, 0.8921294223018361, 0.8924093148231079, 0.8928011643528885, 0.8924093148231079]\n"
     ]
    }
   ],
   "source": [
    "print(lr_acc)"
   ]
  },
  {
   "cell_type": "code",
   "execution_count": 57,
   "metadata": {},
   "outputs": [
    {
     "name": "stdout",
     "output_type": "stream",
     "text": [
      "0.8924988804299149\n"
     ]
    }
   ],
   "source": [
    "print(np.mean(lr_acc))"
   ]
  },
  {
   "cell_type": "markdown",
   "metadata": {},
   "source": [
    "Random Forest "
   ]
  },
  {
   "cell_type": "code",
   "execution_count": 58,
   "metadata": {},
   "outputs": [],
   "source": [
    "rf = RandomForestClassifier()\n",
    "\n",
    "skf = StratifiedKFold(n_splits=5, shuffle=True, random_state=1)\n",
    "rf_acc = []\n",
    "\n",
    "for train_index, vaild_index in skf.split(X_train,y_train):\n",
    "    x_t, x_v = X_train.iloc[train_index], X_train.iloc[vaild_index]\n",
    "    y_t, y_v = y_train.iloc[train_index], y_train.iloc[vaild_index]\n",
    "    rf.fit(x_t, y_t)\n",
    "    rf_acc.append(rf.score(x_v, y_v))"
   ]
  },
  {
   "cell_type": "code",
   "execution_count": 59,
   "metadata": {},
   "outputs": [
    {
     "name": "stdout",
     "output_type": "stream",
     "text": [
      "[0.8982870577698164, 0.8938647559337215, 0.8972234661889834, 0.8975033587102552, 0.8941446484549933]\n"
     ]
    }
   ],
   "source": [
    "print(rf_acc)"
   ]
  },
  {
   "cell_type": "code",
   "execution_count": 60,
   "metadata": {},
   "outputs": [
    {
     "name": "stdout",
     "output_type": "stream",
     "text": [
      "0.896204657411554\n"
     ]
    }
   ],
   "source": [
    "print(np.mean(rf_acc))"
   ]
  },
  {
   "cell_type": "markdown",
   "metadata": {},
   "source": [
    "Naive Bayes"
   ]
  },
  {
   "cell_type": "code",
   "execution_count": 61,
   "metadata": {},
   "outputs": [],
   "source": [
    "gnb = GaussianNB()\n",
    "\n",
    "skf = StratifiedKFold(n_splits=5, shuffle=True, random_state=1)\n",
    "gnb_acc = []\n",
    "\n",
    "for train_index, vaild_index in skf.split(X_train,y_train):\n",
    "    x_t, x_v = X_train.iloc[train_index], X_train.iloc[vaild_index]\n",
    "    y_t, y_v = y_train.iloc[train_index], y_train.iloc[vaild_index]\n",
    "    gnb.fit(x_t, y_t)\n",
    "    gnb_acc.append(gnb.score(x_v, y_v))"
   ]
  },
  {
   "cell_type": "code",
   "execution_count": 62,
   "metadata": {},
   "outputs": [
    {
     "name": "stdout",
     "output_type": "stream",
     "text": [
      "[0.85910210479176, 0.8515450067174205, 0.8575906851768921, 0.8546238244514106, 0.8552955665024631]\n"
     ]
    }
   ],
   "source": [
    "print(gnb_acc)"
   ]
  },
  {
   "cell_type": "code",
   "execution_count": 63,
   "metadata": {},
   "outputs": [
    {
     "name": "stdout",
     "output_type": "stream",
     "text": [
      "0.8556314375279893\n"
     ]
    }
   ],
   "source": [
    "print(np.mean(gnb_acc))"
   ]
  },
  {
   "cell_type": "markdown",
   "metadata": {},
   "source": [
    "SVM"
   ]
  },
  {
   "cell_type": "code",
   "execution_count": 64,
   "metadata": {},
   "outputs": [],
   "source": [
    "svc = SVC()\n",
    "\n",
    "skf = StratifiedKFold(n_splits=2, shuffle=True, random_state=1)\n",
    "svc_acc = []\n",
    "\n",
    "for train_index, vaild_index in skf.split(X_train,y_train):\n",
    "    x_t, x_v = X_train.iloc[train_index], X_train.iloc[vaild_index]\n",
    "    y_t, y_v = y_train.iloc[train_index], y_train.iloc[vaild_index]\n",
    "    svc.fit(x_t, y_t)\n",
    "    svc_acc.append(svc.score(x_v, y_v))"
   ]
  },
  {
   "cell_type": "code",
   "execution_count": 65,
   "metadata": {},
   "outputs": [
    {
     "name": "stdout",
     "output_type": "stream",
     "text": [
      "[0.890729959695477, 0.8895432154052844]\n"
     ]
    }
   ],
   "source": [
    "print(svc_acc)"
   ]
  },
  {
   "cell_type": "code",
   "execution_count": 66,
   "metadata": {},
   "outputs": [
    {
     "name": "stdout",
     "output_type": "stream",
     "text": [
      "0.8901365875503806\n"
     ]
    }
   ],
   "source": [
    "print(np.mean(svc_acc))"
   ]
  },
  {
   "cell_type": "markdown",
   "metadata": {},
   "source": [
    "Model Evaluation"
   ]
  },
  {
   "cell_type": "code",
   "execution_count": 67,
   "metadata": {
    "scrolled": true
   },
   "outputs": [],
   "source": [
    "from sklearn.preprocessing import OneHotEncoder\n",
    "\n",
    "y_test = y_test.to_numpy()\n",
    "y_pred = lr.predict(X_test)\n",
    "\n",
    "lr_acc = accuracy_score(y_test,y_pred)\n",
    "lr_recall = recall_score(y_test,y_pred,average='macro')\n",
    "lr_precision = precision_score(y_test,y_pred,average='macro')\n",
    "lr_f1 = f1_score(y_test,y_pred,average='macro')\n",
    "\n",
    "y_pred_roc = OneHotEncoder().fit(y_test.reshape(-1, 1)).transform(y_pred.reshape(-1,1)).toarray()\n",
    "y_test_roc = OneHotEncoder().fit_transform(y_test.reshape(-1, 1)).toarray()\n",
    "lr_roc = roc_auc_score(y_test_roc,y_pred_roc,multi_class='ovo')"
   ]
  },
  {
   "cell_type": "code",
   "execution_count": 68,
   "metadata": {},
   "outputs": [],
   "source": [
    "y_pred = gnb.predict(X_test)\n",
    "\n",
    "gnb_acc = accuracy_score(y_test,y_pred)\n",
    "gnb_recall = recall_score(y_test_roc,y_pred_roc,average='macro')\n",
    "gnb_precision = precision_score(y_test_roc,y_pred_roc,average='macro')\n",
    "gnb_f1 = f1_score(y_test_roc,y_pred_roc,average='macro')\n",
    "\n",
    "y_pred_roc = OneHotEncoder().fit(y_test.reshape(-1, 1)).transform(y_pred.reshape(-1,1)).toarray()\n",
    "y_test_roc = OneHotEncoder().fit_transform(y_test.reshape(-1, 1)).toarray()\n",
    "gnb_roc = roc_auc_score(y_test_roc,y_pred_roc,multi_class='ovo')\n",
    "# The multiclass and multilabel cases expect a shape (n_samples, n_classes)"
   ]
  },
  {
   "cell_type": "code",
   "execution_count": 69,
   "metadata": {},
   "outputs": [],
   "source": [
    "y_pred = svc.predict(X_test)\n",
    "\n",
    "svc_acc = accuracy_score(y_test,y_pred)\n",
    "svc_recall = recall_score(y_test,y_pred,average='macro')\n",
    "svc_precision = precision_score(y_test,y_pred,average='macro')\n",
    "svc_f1 = f1_score(y_test,y_pred,average='macro')\n",
    "\n",
    "y_pred_roc = OneHotEncoder().fit(y_test.reshape(-1, 1)).transform(y_pred.reshape(-1,1)).toarray()\n",
    "y_test_roc = OneHotEncoder().fit_transform(y_test.reshape(-1, 1)).toarray()\n",
    "svc_roc = roc_auc_score(y_test_roc,y_pred_roc,multi_class='ovo')"
   ]
  },
  {
   "cell_type": "code",
   "execution_count": 70,
   "metadata": {},
   "outputs": [],
   "source": [
    "y_pred = rf.predict(X_test)\n",
    "\n",
    "rf_acc = accuracy_score(y_test,y_pred)\n",
    "rf_recall = recall_score(y_test,y_pred,average='macro')\n",
    "rf_precision = precision_score(y_test,y_pred,average='macro')\n",
    "rf_f1 = f1_score(y_test,y_pred,average='macro')\n",
    "\n",
    "y_pred_roc = OneHotEncoder().fit(y_test.reshape(-1, 1)).transform(y_pred.reshape(-1,1)).toarray()\n",
    "y_test_roc = OneHotEncoder().fit_transform(y_test.reshape(-1, 1)).toarray()\n",
    "rf_roc = roc_auc_score(y_test_roc,y_pred_roc,multi_class='ovo')"
   ]
  },
  {
   "cell_type": "code",
   "execution_count": 71,
   "metadata": {},
   "outputs": [
    {
     "name": "stdout",
     "output_type": "stream",
     "text": [
      "Logistic Regression:  0.8904649947753396 0.8906151006235196 0.8904769294106861 0.8904279567650215 0.9270557375868776\n",
      "Naive Bayes:  0.8551462904911181 0.8906151006235196 0.8904769294106861 0.8904279567650215 0.9034321199281004\n",
      "Support Vector Machine:  0.8887147335423198 0.8888558761199834 0.88879758649877 0.8886647307569335 0.9258849603391074\n",
      "Random Forest:  0.8960292580982236 0.8962028798412252 0.8959790602875873 0.8958581672798429 0.9307797293347566\n"
     ]
    }
   ],
   "source": [
    "print(\"Logistic Regression: \",lr_acc,lr_recall,lr_precision,lr_f1,lr_roc)\n",
    "print(\"Naive Bayes: \", gnb_acc,gnb_recall,gnb_precision,gnb_f1,gnb_roc)\n",
    "print(\"Support Vector Machine: \", svc_acc,svc_recall,svc_precision,svc_f1,svc_roc)\n",
    "print(\"Random Forest: \", rf_acc,rf_recall,rf_precision,rf_f1,rf_roc)"
   ]
  },
  {
   "cell_type": "markdown",
   "metadata": {},
   "source": [
    "# Results"
   ]
  },
  {
   "cell_type": "code",
   "execution_count": 72,
   "metadata": {},
   "outputs": [],
   "source": [
    "results = pd.DataFrame([[lr_acc,lr_recall,lr_precision,lr_f1,lr_roc],\n",
    "                        [gnb_acc,gnb_recall,gnb_precision,gnb_f1,gnb_roc],\n",
    "                        [svc_acc,svc_recall,svc_precision,svc_f1,svc_roc],\n",
    "                        [rf_acc,rf_recall,rf_precision,rf_f1,rf_roc]],\n",
    "                       columns=['accuracy','recall','precision','fl-score','roc_auc'], \n",
    "                       index=[\"Logistic Regression\",\"Naive Bayes\",\"Support Vector Machine\",\"Random Forest\"])"
   ]
  },
  {
   "cell_type": "code",
   "execution_count": 73,
   "metadata": {},
   "outputs": [
    {
     "data": {
      "text/html": [
       "<div>\n",
       "<style scoped>\n",
       "    .dataframe tbody tr th:only-of-type {\n",
       "        vertical-align: middle;\n",
       "    }\n",
       "\n",
       "    .dataframe tbody tr th {\n",
       "        vertical-align: top;\n",
       "    }\n",
       "\n",
       "    .dataframe thead th {\n",
       "        text-align: right;\n",
       "    }\n",
       "</style>\n",
       "<table border=\"1\" class=\"dataframe\">\n",
       "  <thead>\n",
       "    <tr style=\"text-align: right;\">\n",
       "      <th></th>\n",
       "      <th>accuracy</th>\n",
       "      <th>recall</th>\n",
       "      <th>precision</th>\n",
       "      <th>fl-score</th>\n",
       "      <th>roc_auc</th>\n",
       "    </tr>\n",
       "  </thead>\n",
       "  <tbody>\n",
       "    <tr>\n",
       "      <th>Logistic Regression</th>\n",
       "      <td>0.890465</td>\n",
       "      <td>0.890615</td>\n",
       "      <td>0.890477</td>\n",
       "      <td>0.890428</td>\n",
       "      <td>0.927056</td>\n",
       "    </tr>\n",
       "    <tr>\n",
       "      <th>Naive Bayes</th>\n",
       "      <td>0.855146</td>\n",
       "      <td>0.890615</td>\n",
       "      <td>0.890477</td>\n",
       "      <td>0.890428</td>\n",
       "      <td>0.903432</td>\n",
       "    </tr>\n",
       "    <tr>\n",
       "      <th>Support Vector Machine</th>\n",
       "      <td>0.888715</td>\n",
       "      <td>0.888856</td>\n",
       "      <td>0.888798</td>\n",
       "      <td>0.888665</td>\n",
       "      <td>0.925885</td>\n",
       "    </tr>\n",
       "    <tr>\n",
       "      <th>Random Forest</th>\n",
       "      <td>0.896029</td>\n",
       "      <td>0.896203</td>\n",
       "      <td>0.895979</td>\n",
       "      <td>0.895858</td>\n",
       "      <td>0.930780</td>\n",
       "    </tr>\n",
       "  </tbody>\n",
       "</table>\n",
       "</div>"
      ],
      "text/plain": [
       "                        accuracy    recall  precision  fl-score   roc_auc\n",
       "Logistic Regression     0.890465  0.890615   0.890477  0.890428  0.927056\n",
       "Naive Bayes             0.855146  0.890615   0.890477  0.890428  0.903432\n",
       "Support Vector Machine  0.888715  0.888856   0.888798  0.888665  0.925885\n",
       "Random Forest           0.896029  0.896203   0.895979  0.895858  0.930780"
      ]
     },
     "execution_count": 73,
     "metadata": {},
     "output_type": "execute_result"
    }
   ],
   "source": [
    "results"
   ]
  },
  {
   "cell_type": "code",
   "execution_count": 74,
   "metadata": {},
   "outputs": [],
   "source": [
    "export_file_path = os.path.abspath(os.path.join(os.pardir,'data','word2vec_results.csv'))\n",
    "results.to_csv(export_file_path)"
   ]
  },
  {
   "cell_type": "code",
   "execution_count": null,
   "metadata": {},
   "outputs": [],
   "source": []
  }
 ],
 "metadata": {
  "colab": {
   "name": "AG_News_Classification.ipynb",
   "provenance": []
  },
  "kernelspec": {
   "display_name": "Python 3",
   "language": "python",
   "name": "python3"
  },
  "language_info": {
   "codemirror_mode": {
    "name": "ipython",
    "version": 3
   },
   "file_extension": ".py",
   "mimetype": "text/x-python",
   "name": "python",
   "nbconvert_exporter": "python",
   "pygments_lexer": "ipython3",
   "version": "3.7.5"
  }
 },
 "nbformat": 4,
 "nbformat_minor": 1
}
