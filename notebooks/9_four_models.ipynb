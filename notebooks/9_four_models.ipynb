{
 "cells": [
  {
   "cell_type": "code",
   "execution_count": 1,
   "metadata": {},
   "outputs": [],
   "source": [
    "import numpy as np\n",
    "import pandas as pd\n",
    "import matplotlib.pyplot as plt\n",
    "from sklearn.model_selection import train_test_split, StratifiedKFold\n",
    "from sklearn.linear_model import LogisticRegression\n",
    "from sklearn.svm import SVC\n",
    "from sklearn.naive_bayes import GaussianNB\n",
    "from sklearn.decomposition import PCA\n",
    "from sklearn.ensemble import RandomForestClassifier\n",
    "from sklearn.metrics import accuracy_score, f1_score, precision_score, recall_score, roc_auc_score, roc_curve, auc\n",
    "from sklearn.preprocessing import OneHotEncoder\n",
    "import seaborn as sns\n",
    "import time\n",
    "import os"
   ]
  },
  {
   "cell_type": "code",
   "execution_count": 3,
   "metadata": {},
   "outputs": [],
   "source": [
    "train_set = 'bag_of_words_training_data.csv'\n",
    "test_set = ''\n",
    "export = 'bag_of_words_results.csv'\n",
    "\n",
    "# train_set = 'tf_idf_training_data.csv'\n",
    "# test_set = ''\n",
    "# export = 'tf_idf_results.csv'\n",
    "\n",
    "# train_set = 'bag_of_words_training_data.csv'\n",
    "# test_set = 'bag_of_words_bing_data.csv'\n",
    "# export = 'bow_bing_results.csv'\n",
    "\n",
    "# train_set = 'tf_idf_training_data.csv'\n",
    "# test_set = 'tf_idf_bing_data.csv'\n",
    "# export = 'tf_idf_bing_results.csv'"
   ]
  },
  {
   "cell_type": "markdown",
   "metadata": {},
   "source": [
    "## Model Training "
   ]
  },
  {
   "cell_type": "code",
   "execution_count": 2,
   "metadata": {},
   "outputs": [],
   "source": [
    "data_file_path = os.path.abspath(os.path.join(os.pardir,'data',train_set))\n",
    "data = pd.read_csv(data_file_path)\n",
    "# X dataframe \n",
    "X = data.drop(['News Category'],axis=1) \n",
    "# y series\n",
    "y = data['News Category']"
   ]
  },
  {
   "cell_type": "code",
   "execution_count": 3,
   "metadata": {},
   "outputs": [],
   "source": [
    "pca = PCA(n_components=100)\n",
    "X = pca.fit_transform(X)"
   ]
  },
  {
   "cell_type": "code",
   "execution_count": 4,
   "metadata": {},
   "outputs": [],
   "source": [
    "X_train,X_test,y_train,y_test = train_test_split(X,y,test_size=0.3)\n",
    "y_train = y_train.to_numpy()\n",
    "y_test = y_test.to_numpy()"
   ]
  },
  {
   "cell_type": "code",
   "execution_count": 5,
   "metadata": {},
   "outputs": [
    {
     "name": "stdout",
     "output_type": "stream",
     "text": [
      "Training time: 9.19min\n"
     ]
    }
   ],
   "source": [
    "svc = SVC()\n",
    "\n",
    "skf = StratifiedKFold(n_splits=2, shuffle=True, random_state=1)\n",
    "svc_acc = []\n",
    "\n",
    "start = time.time()\n",
    "\n",
    "for train_index, vaild_index in skf.split(X_train,y_train):\n",
    "    x_t, x_v = X_train[train_index], X_train[vaild_index]\n",
    "    y_t, y_v = y_train[train_index], y_train[vaild_index]\n",
    "    svc.fit(x_t, y_t)\n",
    "    svc_acc.append(svc.score(x_v, y_v))\n",
    "\n",
    "stop = time.time()\n",
    "svm_tt = round((stop-start) / 60, 2)\n",
    "print(f\"Training time: {svm_tt}min\")"
   ]
  },
  {
   "cell_type": "code",
   "execution_count": 6,
   "metadata": {},
   "outputs": [
    {
     "name": "stdout",
     "output_type": "stream",
     "text": [
      "[0.8461486789072996, 0.8499552171965965]\n"
     ]
    }
   ],
   "source": [
    "print(svc_acc)"
   ]
  },
  {
   "cell_type": "code",
   "execution_count": 7,
   "metadata": {},
   "outputs": [
    {
     "name": "stdout",
     "output_type": "stream",
     "text": [
      "0.8480519480519481\n"
     ]
    }
   ],
   "source": [
    "print(np.mean(svc_acc))"
   ]
  },
  {
   "cell_type": "code",
   "execution_count": 8,
   "metadata": {},
   "outputs": [
    {
     "name": "stdout",
     "output_type": "stream",
     "text": [
      "Training time: 0.29min\n"
     ]
    }
   ],
   "source": [
    "lr = LogisticRegression(solver='newton-cg')\n",
    "\n",
    "skf = StratifiedKFold(n_splits=5, shuffle=True, random_state=1)\n",
    "lr_acc = []\n",
    "\n",
    "start = time.time()\n",
    "\n",
    "for train_index, vaild_index in skf.split(X_train,y_train):\n",
    "    x_t, x_v = X_train[train_index], X_train[vaild_index]\n",
    "    y_t, y_v = y_train[train_index], y_train[vaild_index]\n",
    "    lr.fit(x_t, y_t)\n",
    "    lr_acc.append(lr.score(x_v, y_v))\n",
    "\n",
    "stop = time.time()\n",
    "lr_tt = round((stop-start) / 60, 2)\n",
    "print(f\"Training time: {lr_tt}min\")"
   ]
  },
  {
   "cell_type": "code",
   "execution_count": 9,
   "metadata": {},
   "outputs": [
    {
     "name": "stdout",
     "output_type": "stream",
     "text": [
      "[0.8311128526645768, 0.8296574115539633, 0.8307769816390506, 0.8338557993730408, 0.831000895656068]\n"
     ]
    }
   ],
   "source": [
    "print(lr_acc)"
   ]
  },
  {
   "cell_type": "code",
   "execution_count": 10,
   "metadata": {},
   "outputs": [
    {
     "name": "stdout",
     "output_type": "stream",
     "text": [
      "0.8312807881773401\n"
     ]
    }
   ],
   "source": [
    "print(np.mean(lr_acc))"
   ]
  },
  {
   "cell_type": "code",
   "execution_count": 11,
   "metadata": {},
   "outputs": [
    {
     "name": "stdout",
     "output_type": "stream",
     "text": [
      "Training time: 0.01min\n"
     ]
    }
   ],
   "source": [
    "gnb = GaussianNB()\n",
    "\n",
    "skf = StratifiedKFold(n_splits=5, shuffle=True, random_state=1)\n",
    "gnb_acc = []\n",
    "\n",
    "start=time.time()\n",
    "\n",
    "for train_index, vaild_index in skf.split(X_train,y_train):\n",
    "    x_t, x_v = X_train[train_index], X_train[vaild_index]\n",
    "    y_t, y_v = y_train[train_index], y_train[vaild_index]\n",
    "    gnb.fit(x_t, y_t)\n",
    "    gnb_acc.append(gnb.score(x_v, y_v))\n",
    "\n",
    "stop=time.time()\n",
    "gnb_tt = round((stop-start) / 60, 2)\n",
    "print(f\"Training time: {gnb_tt}min\")"
   ]
  },
  {
   "cell_type": "code",
   "execution_count": 12,
   "metadata": {},
   "outputs": [
    {
     "name": "stdout",
     "output_type": "stream",
     "text": [
      "[0.5962270488132557, 0.599025974025974, 0.5979623824451411, 0.5982422749664129, 0.6004254366323332]\n"
     ]
    }
   ],
   "source": [
    "print(gnb_acc)"
   ]
  },
  {
   "cell_type": "code",
   "execution_count": 13,
   "metadata": {},
   "outputs": [
    {
     "name": "stdout",
     "output_type": "stream",
     "text": [
      "0.5983766233766235\n"
     ]
    }
   ],
   "source": [
    "print(np.mean(gnb_acc))"
   ]
  },
  {
   "cell_type": "code",
   "execution_count": 14,
   "metadata": {},
   "outputs": [
    {
     "name": "stdout",
     "output_type": "stream",
     "text": [
      "Training time: 4.89min\n"
     ]
    }
   ],
   "source": [
    "rf = RandomForestClassifier()\n",
    "skf = StratifiedKFold(n_splits=5, shuffle=True, random_state=1)\n",
    "rf_acc = []\n",
    "\n",
    "start=time.time()\n",
    "\n",
    "for train_index, vaild_index in skf.split(X_train,y_train):\n",
    "    x_t, x_v = X_train[train_index], X_train[vaild_index]\n",
    "    y_t, y_v = y_train[train_index], y_train[vaild_index]\n",
    "    rf.fit(x_t, y_t)\n",
    "    rf_acc.append(rf.score(x_v, y_v))\n",
    "    \n",
    "stop=time.time()\n",
    "rf_tt = round((stop-start) / 60, 2)\n",
    "print(f\"Training time: {rf_tt}min\")"
   ]
  },
  {
   "cell_type": "code",
   "execution_count": 15,
   "metadata": {},
   "outputs": [
    {
     "name": "stdout",
     "output_type": "stream",
     "text": [
      "[0.8081056874160323, 0.8069301388266905, 0.80653828929691, 0.8081056874160323, 0.8083855799373041]\n"
     ]
    }
   ],
   "source": [
    "print(rf_acc)"
   ]
  },
  {
   "cell_type": "code",
   "execution_count": 16,
   "metadata": {},
   "outputs": [
    {
     "name": "stdout",
     "output_type": "stream",
     "text": [
      "0.8076130765785938\n"
     ]
    }
   ],
   "source": [
    "print(np.mean(rf_acc))"
   ]
  },
  {
   "cell_type": "markdown",
   "metadata": {},
   "source": [
    "## Model Evaluation"
   ]
  },
  {
   "cell_type": "code",
   "execution_count": 4,
   "metadata": {},
   "outputs": [],
   "source": [
    "if test_set != '':\n",
    "    data = pd.read_csv(test_set)\n",
    "    # X dataframe \n",
    "    X_test = data.drop(['News Category'],axis=1) \n",
    "    # y series\n",
    "    y_test = data['News Category'].to_numpy()\n",
    "    \n",
    "    pca = PCA(n_components=100)\n",
    "    X_test = pca.fit_transform(X_test)"
   ]
  },
  {
   "cell_type": "code",
   "execution_count": 18,
   "metadata": {},
   "outputs": [],
   "source": [
    "y_pred = lr.predict(X_test)\n",
    "\n",
    "lr_acc = accuracy_score(y_test,y_pred)\n",
    "lr_recall = recall_score(y_test,y_pred,average='micro')\n",
    "lr_precision = precision_score(y_test,y_pred,average='micro')\n",
    "lr_f1 = f1_score(y_test,y_pred,average='micro')\n",
    "\n",
    "y_pred_roc = OneHotEncoder().fit(y_test.reshape(-1, 1)).transform(y_pred.reshape(-1,1)).toarray()\n",
    "y_test_roc = OneHotEncoder().fit_transform(y_test.reshape(-1, 1)).toarray()\n",
    "lr_roc = roc_auc_score(y_test_roc,y_pred_roc,multi_class='ovo')"
   ]
  },
  {
   "cell_type": "code",
   "execution_count": 19,
   "metadata": {},
   "outputs": [],
   "source": [
    "y_pred = gnb.predict(X_test)\n",
    "\n",
    "gnb_acc = accuracy_score(y_test,y_pred)\n",
    "gnb_recall = recall_score(y_test,y_pred,average='micro')\n",
    "gnb_precision = precision_score(y_test,y_pred,average='micro')\n",
    "gnb_f1 = f1_score(y_test,y_pred,average='micro')\n",
    "\n",
    "y_pred_roc = OneHotEncoder().fit(y_test.reshape(-1, 1)).transform(y_pred.reshape(-1,1)).toarray()\n",
    "y_test_roc = OneHotEncoder().fit_transform(y_test.reshape(-1, 1)).toarray()\n",
    "gnb_roc = roc_auc_score(y_test_roc,y_pred_roc,multi_class='ovo')"
   ]
  },
  {
   "cell_type": "code",
   "execution_count": 20,
   "metadata": {},
   "outputs": [],
   "source": [
    "y_pred = svc.predict(X_test)\n",
    "\n",
    "svc_acc = accuracy_score(y_test,y_pred)\n",
    "svc_recall = recall_score(y_test,y_pred,average='micro')\n",
    "svc_precision = precision_score(y_test,y_pred,average='micro')\n",
    "svc_f1 = f1_score(y_test,y_pred,average='micro')\n",
    "\n",
    "y_pred_roc = OneHotEncoder().fit(y_test.reshape(-1, 1)).transform(y_pred.reshape(-1,1)).toarray()\n",
    "y_test_roc = OneHotEncoder().fit_transform(y_test.reshape(-1, 1)).toarray()\n",
    "svc_roc = roc_auc_score(y_test_roc,y_pred_roc,multi_class='ovo')"
   ]
  },
  {
   "cell_type": "code",
   "execution_count": 21,
   "metadata": {},
   "outputs": [],
   "source": [
    "y_pred = rf.predict(X_test)\n",
    "\n",
    "rf_acc = accuracy_score(y_test,y_pred)\n",
    "rf_recall = recall_score(y_test,y_pred,average='micro')\n",
    "rf_precision = precision_score(y_test,y_pred,average='micro')\n",
    "rf_f1 = f1_score(y_test,y_pred,average='micro')\n",
    "\n",
    "y_pred_roc = OneHotEncoder().fit(y_test.reshape(-1, 1)).transform(y_pred.reshape(-1,1)).toarray()\n",
    "y_test_roc = OneHotEncoder().fit_transform(y_test.reshape(-1, 1)).toarray()\n",
    "rf_roc = roc_auc_score(y_test_roc,y_pred_roc,multi_class='ovo')"
   ]
  },
  {
   "cell_type": "code",
   "execution_count": 22,
   "metadata": {},
   "outputs": [
    {
     "name": "stdout",
     "output_type": "stream",
     "text": [
      "Logistic Regression:  0.8288923719958202 0.8288923719958202 0.8288923719958202 0.8288923719958202 0.8859536470644196\n",
      "Naive Bayes:  0.5972309299895506 0.5972309299895506 0.5972309299895506 0.5972309299895506 0.7316268481700499\n",
      "Support Vector Machine:  0.843521421107628 0.843521421107628 0.843521421107628 0.843521421107628 0.8957040340141593\n",
      "Random Forest:  0.8043103448275862 0.8043103448275862 0.8043103448275862 0.8043103448275861 0.8695783496297997\n"
     ]
    }
   ],
   "source": [
    "print(\"Logistic Regression: \",lr_acc,lr_recall,lr_precision,lr_f1,lr_roc)\n",
    "print(\"Naive Bayes: \", gnb_acc,gnb_recall,gnb_precision,gnb_f1,gnb_roc)\n",
    "print(\"Support Vector Machine: \", svc_acc,svc_recall,svc_precision,svc_f1,svc_roc)\n",
    "print(\"Random Forest: \", rf_acc,rf_recall,rf_precision,rf_f1,rf_roc)"
   ]
  },
  {
   "cell_type": "code",
   "execution_count": 23,
   "metadata": {},
   "outputs": [],
   "source": [
    "results = pd.DataFrame([[lr_acc,lr_recall,lr_precision,lr_f1,lr_roc],\n",
    "                        [gnb_acc,gnb_recall,gnb_precision,gnb_f1,gnb_roc],\n",
    "                        [svc_acc,svc_recall,svc_precision,svc_f1,svc_roc],\n",
    "                        [rf_acc,rf_recall,rf_precision,rf_f1,rf_roc]],\n",
    "                       columns=['accuracy','recall','precision','fl-score','roc_auc'], \n",
    "                       index=[\"Logistic Regression\",\"Naive Bayes\",\"Support Vector Machine\",\"Random Forest\"])"
   ]
  },
  {
   "cell_type": "code",
   "execution_count": 24,
   "metadata": {},
   "outputs": [
    {
     "name": "stdout",
     "output_type": "stream",
     "text": [
      "                        accuracy    recall  precision  fl-score   roc_auc\n",
      "Logistic Regression     0.828892  0.828892   0.828892  0.828892  0.885954\n",
      "Naive Bayes             0.597231  0.597231   0.597231  0.597231  0.731627\n",
      "Support Vector Machine  0.843521  0.843521   0.843521  0.843521  0.895704\n",
      "Random Forest           0.804310  0.804310   0.804310  0.804310  0.869578\n"
     ]
    }
   ],
   "source": [
    "print(results)"
   ]
  },
  {
   "cell_type": "code",
   "execution_count": 25,
   "metadata": {},
   "outputs": [],
   "source": [
    "export_file_path = os.path.abspath(os.path.join(os.pardir,'data',export))\n",
    "results.to_csv(export_file_path)"
   ]
  },
  {
   "cell_type": "markdown",
   "metadata": {},
   "source": [
    "### Training Time"
   ]
  },
  {
   "cell_type": "code",
   "execution_count": 26,
   "metadata": {},
   "outputs": [
    {
     "data": {
      "image/png": "[encoded data removed]",
      "text/plain": [
       "<Figure size 432x288 with 1 Axes>"
      ]
     },
     "metadata": {},
     "output_type": "display_data"
    }
   ],
   "source": [
    "sns.set(font_scale=1.2)\n",
    "fig = plt.figure()\n",
    "ax = fig.add_axes([0,0,1,1])\n",
    "Models = ['RandomForest', 'GaussianNB', 'Logistic', 'SVM']\n",
    "TrainingTime=[rf_tt,gnb_tt,lr_tt,svm_tt]\n",
    "ax.bar(Models,TrainingTime,color=[\"lightyellow\",\"lightgreen\", \"skyblue\", \"pink\"]);\n",
    "for i in ax.patches:\n",
    "    ax.text(i.get_x()+.2, i.get_height(), str(round(i.get_height(),2)), fontsize=14, color='black')\n",
    "plt.title('Comparison of Different Classification Models on Bag of Words Feature Extraction Method\\n');\n",
    "plt.ylabel('Training Time (in mins)\\n');\n",
    "plt.xlabel('\\nClassification Models');\n",
    "# plt.savefig('bow_model_training_times.png', bbox_inches='tight')\n",
    "plt.show();"
   ]
  },
  {
   "cell_type": "code",
   "execution_count": null,
   "metadata": {},
   "outputs": [],
   "source": []
  }
 ],
 "metadata": {
  "kernelspec": {
   "display_name": "Python 3",
   "language": "python",
   "name": "python3"
  },
  "language_info": {
   "codemirror_mode": {
    "name": "ipython",
    "version": 3
   },
   "file_extension": ".py",
   "mimetype": "text/x-python",
   "name": "python",
   "nbconvert_exporter": "python",
   "pygments_lexer": "ipython3",
   "version": "3.7.5"
  }
 },
 "nbformat": 4,
 "nbformat_minor": 4
}
